{
 "cells": [
  {
   "cell_type": "code",
   "execution_count": 44,
   "metadata": {
    "ExecuteTime": {
     "end_time": "2020-05-05T22:40:23.312662Z",
     "start_time": "2020-05-05T22:40:23.288734Z"
    }
   },
   "outputs": [],
   "source": [
    "import os\n",
    "import xml.etree.ElementTree as ET\n",
    "from ipymarkup import show_box_markup\n",
    "from ipymarkup.palette import palette, BLUE, RED, GREEN, ORANGE, BROWN, GREY, PURPLE\n",
    "import sys\n",
    "from brat_format import read_file\n",
    "import os\n",
    "import torch\n",
    "import torch.nn as nn\n",
    "import torch.optim as optim\n",
    "import time\n",
    "import numpy as np\n",
    "\n",
    "def read_text_with_markup(directory):\n",
    "    # В функции read_file заменила порядок элементов в entity-tuple для применения show_box_markup\n",
    "    from brat_format import read_file\n",
    "    file = read_file(directory+'.ann')\n",
    "    text = file.txt_data\n",
    "    spans = file.ners\n",
    "    return text, spans\n",
    "\n",
    "# Расчет F1\n",
    "def calc_ner_f1(docs, predicted_labels):\n",
    "    total_tp = 0\n",
    "    total_fp = 0\n",
    "    total_fn = 0\n",
    "\n",
    "    for i in range(len(docs)):\n",
    "        true_ners = docs[i].spans\n",
    "        spans_predicted = get_spans(predicted_labels[i], docs[i].tokens)\n",
    "        pred_ners = sorted(spans_predicted, key=lambda x: x[1])\n",
    "        tp, fp, fn = cacl_ner_tp_fp_fn(true_ners, pred_ners)\n",
    "\n",
    "        total_tp += tp\n",
    "        total_fp += fp\n",
    "        total_fn += fn\n",
    "\n",
    "    precision, recall = compute_precision_and_recall(total_tp, total_fp, total_fn)\n",
    "\n",
    "    f_measure = 2 * precision * recall / (precision + recall)\n",
    "    \n",
    "    return f_measure\n",
    "\n",
    "\n",
    "#os.chdir(os.getcwd()+'/RuREBus-master/eval_scripts')\n",
    "def compute_precision_and_recall(true_positive, false_positive, false_negative):\n",
    "    \"\"\"\n",
    "    Вычисляем точность и полноту по TP, FP и FN\n",
    "    \"\"\"\n",
    "    if false_positive + true_positive > 0:\n",
    "        precision = float(true_positive) / (true_positive + false_positive)\n",
    "    else:\n",
    "        precision = 0\n",
    "    if false_negative + true_positive > 0:\n",
    "        recall = float(true_positive) / (true_positive + false_negative)\n",
    "    else:\n",
    "        recall = 0\n",
    "    return recall, precision\n",
    "\n",
    "\n",
    "def cacl_ner_tp_fp_fn(true_ners, pred_ners):\n",
    "    # A - концы true, B - концы red, С - совпадение\n",
    "    # C C  = TP + 1\n",
    "    # A A B B | A B C | A B A B = FN + 1, advance A\n",
    "    # B B A A | B A C | B A B A = FP + 1, advance B\n",
    "    # C A B | C B A = FP + 1, FN + 1, advance A and B\n",
    "\n",
    "    true_positive = 0\n",
    "    false_positive = 0\n",
    "    false_negative = 0\n",
    "\n",
    "    i = 0\n",
    "    j = 0\n",
    "    while i != len(true_ners) and j != len(pred_ners):\n",
    "        if true_ners[i] == pred_ners[j]:\n",
    "            true_positive += 1\n",
    "            i += 1\n",
    "            j += 1\n",
    "            continue\n",
    "        if true_ners[i][0] >= pred_ners[j][1]:\n",
    "            false_positive += 1\n",
    "            j += 1\n",
    "            continue\n",
    "        if true_ners[i][1] <= pred_ners[j][0]:\n",
    "            false_negative += 1\n",
    "            i += 1\n",
    "            continue\n",
    "        if true_ners[i][0] < pred_ners[j][0]:\n",
    "            false_negative += 1\n",
    "            i += 1\n",
    "            continue\n",
    "        if true_ners[i][0] > pred_ners[j][0]:\n",
    "            false_positive += 1\n",
    "            j += 1\n",
    "            continue\n",
    "\n",
    "        false_positive += 1\n",
    "        false_negative += 1\n",
    "        j += 1\n",
    "        i += 1\n",
    "\n",
    "    false_negative += len(true_ners) - i\n",
    "    false_positive += len(pred_ners) - j\n",
    "\n",
    "    return true_positive, false_positive, false_negative\n",
    "\n",
    "\n",
    "def get_next_gen_batch(samples, max_seq_len=1500, max_char_seq_len=40, batch_size=32):\n",
    "    indices = np.arange(len(samples))\n",
    "    np.random.shuffle(indices)\n",
    "    batch_begin = 0\n",
    "    while batch_begin < len(samples):\n",
    "        batch_indices = indices[batch_begin: batch_begin + batch_size]\n",
    "        batch = []\n",
    "        batch_labels = []\n",
    "        batch_max_len = 0\n",
    "        for data_ind in batch_indices:\n",
    "            sample = samples[data_ind]\n",
    "            inputs = []\n",
    "            for token in sample.tokens[:max_seq_len]:\n",
    "                chars = [char_set.index(ch) if ch in char_set else char_set.index(\"<unk>\") for ch in token.text][:max_char_seq_len]\n",
    "                chars += [0] * (max_char_seq_len - len(chars))\n",
    "                inputs.append(chars)\n",
    "            batch_max_len = max(batch_max_len, len(inputs))\n",
    "            inputs += [[0]*max_char_seq_len] * (max_seq_len - len(inputs))\n",
    "            batch.append(inputs)\n",
    "            labels = sample.labels[:max_seq_len]\n",
    "            labels += [0] * (max_seq_len - len(labels))\n",
    "            batch_labels.append(labels)\n",
    "        batch_begin += batch_size\n",
    "        batch = torch.cuda.LongTensor(batch)[:, :batch_max_len]\n",
    "        labels = torch.cuda.LongTensor(batch_labels)[:, :batch_max_len]\n",
    "        yield batch_indices, batch, labels\n",
    "\n",
    "\n",
    "def train_gen_model(model, train_samples, val_samples, epochs_count=10, \n",
    "                    loss_every_nsteps=1000, lr=0.01, batch_size=32, save_path=\"model.pt\", device_name=\"cuda\",\n",
    "                    early_stopping=True, patience = 5):\n",
    "    params_count = sum(p.numel() for p in model.parameters() if p.requires_grad)\n",
    "    print(\"Trainable params: {}\".format(params_count))\n",
    "    device = torch.device(device_name)\n",
    "    model = model.to(device)\n",
    "    total_loss = 0\n",
    "    train_batch_count = 0\n",
    "    skipped = 0\n",
    "    start_time = time.time()\n",
    "    optimizer = optim.Adam(model.parameters(), lr=lr)\n",
    "    loss_function = nn.CrossEntropyLoss().cuda()\n",
    "    prev_avg_val_loss = None\n",
    "    for epoch in range(epochs_count):\n",
    "        model.train()\n",
    "        for step, (_, batch, batch_labels) in enumerate(get_next_gen_batch(train, batch_size = batch_size)):\n",
    "            logits = model(batch) # Прямой проход\n",
    "            logits = logits.transpose(1, 2)\n",
    "            loss = loss_function(logits, batch_labels) # Подсчёт ошибки\n",
    "            loss_batch = loss.to(\"cpu\").item()\n",
    "            loss.backward() # Подсчёт градиентов dL/dw\n",
    "            torch.nn.utils.clip_grad_norm_(model.parameters(), 0.25)\n",
    "            optimizer.step() # Градиентный спуск или его модификации (в данном случае Adam)\n",
    "            optimizer.zero_grad() # Зануление градиентов, чтобы их спокойно менять на следующей итерации\n",
    "            total_loss += loss.detach().item()\n",
    "            train_batch_count += 1\n",
    "        val_total_loss = 0\n",
    "        val_batch_count = 0\n",
    "        model.eval()\n",
    "        for _, (_, batch, batch_labels) in enumerate(get_next_gen_batch(val)):\n",
    "            logits = model(batch) # Прямой проход\n",
    "            logits = logits.transpose(1, 2)\n",
    "            val_total_loss += loss_function(logits, batch_labels).detach().item() # Подсчёт ошибки\n",
    "            val_batch_count += 1\n",
    "        avg_val_loss = val_total_loss/val_batch_count\n",
    "        print(\"Epoch = {}, Avg Train Loss = {:.4f}, Avg val loss = {:.4f}, Time = {:.2f}s\".format(epoch, total_loss / train_batch_count, avg_val_loss, time.time() - start_time))\n",
    "        total_loss = 0\n",
    "        start_time = time.time()\n",
    "        \n",
    "        if prev_avg_val_loss is not None and avg_val_loss > prev_avg_val_loss:\n",
    "            skipped +=1\n",
    "        else:\n",
    "            skipped = 0\n",
    "\n",
    "        if early_stopping and skipped > patience:\n",
    "            model.load_state_dict(torch.load(save_path))\n",
    "            model.eval()\n",
    "            break\n",
    "        prev_avg_val_loss = avg_val_loss       \n",
    "        torch.save(model.state_dict(), save_path)\n",
    "        \n",
    "def predict(model, samples):\n",
    "    device = torch.device(\"cuda\")\n",
    "    model = model.to(device)\n",
    "    model.eval()\n",
    "    true_labels = []\n",
    "    predicted_labels = []\n",
    "    all_indices = []\n",
    "    for _, (indices, batch, batch_labels) in enumerate(get_next_gen_batch(samples)):\n",
    "        logits = model(batch)\n",
    "        plabels = logits.max(dim=2)[1]\n",
    "        true_labels.extend(list(batch_labels.cpu().detach().numpy()))\n",
    "        predicted_labels.extend(list(plabels.cpu().detach().numpy()))\n",
    "        all_indices.extend(indices)\n",
    "    samples = [samples[index] for index in all_indices]\n",
    "    return samples, true_labels, predicted_labels"
   ]
  },
  {
   "cell_type": "code",
   "execution_count": 2,
   "metadata": {
    "ExecuteTime": {
     "end_time": "2020-05-05T19:13:28.991008Z",
     "start_time": "2020-05-05T19:13:28.968042Z"
    }
   },
   "outputs": [],
   "source": [
    "# кодировка Label по BIO схеме\n",
    "def make_sample(data):\n",
    "    from razdel import tokenize\n",
    "    from collections import namedtuple\n",
    "    Sample = namedtuple(\"Sample\", \"text,tokens,spans,labels\")\n",
    "    \n",
    "    samples = []\n",
    "    for text, spans in data:\n",
    "        labels = []\n",
    "        tokens = list(tokenize(text))\n",
    "        for token in tokens: # для каждого токета проходим по всем спанам\n",
    "            label = 0\n",
    "            for span in spans:\n",
    "                if (span[2]=='BIN'):\n",
    "                    if token.start == span[0]:\n",
    "                        label = 1\n",
    "                    elif token.start > span[0] and token.stop <= span[1]:\n",
    "                        label = 2\n",
    "                elif (span[2]=='ECO'):\n",
    "                    if token.start == span[0]:\n",
    "                        label = 3\n",
    "                    elif token.start > span[0] and token.stop <= span[1]:\n",
    "                        label = 4  \n",
    "                elif (span[2]=='INST'):\n",
    "                    if token.start == span[0]:\n",
    "                        label = 5\n",
    "                    elif token.start > span[0] and token.stop <= span[1]:\n",
    "                        label = 6  \n",
    "                elif (span[2]=='CMP'):\n",
    "                    if token.start == span[0]:\n",
    "                        label = 7\n",
    "                    elif token.start > span[0] and token.stop <= span[1]:\n",
    "                        label = 8  \n",
    "                elif (span[2]=='ACT'):\n",
    "                    if token.start == span[0]:\n",
    "                        label = 9\n",
    "                    elif token.start > span[0] and token.stop <= span[1]:\n",
    "                        label = 10  \n",
    "                elif (span[2]=='MET'):\n",
    "                    if token.start == span[0]:\n",
    "                        label = 11\n",
    "                    elif token.start > span[0] and token.stop <= span[1]:\n",
    "                        label = 12  \n",
    "                elif (span[2]=='QUA'):\n",
    "                    if token.start == span[0]:\n",
    "                        label = 13\n",
    "                    elif token.start > span[0] and token.stop <= span[1]:\n",
    "                        label = 14  \n",
    "                elif (span[2]=='SOC'):\n",
    "                    if token.start == span[0]:\n",
    "                        label = 15\n",
    "                    elif token.start > span[0] and token.stop <= span[1]:\n",
    "                        label = 16  \n",
    "                    \n",
    "            labels.append(label)\n",
    "        sample = Sample(text, tokens, spans, labels)\n",
    "        samples.append(sample)\n",
    "    return(samples)\n",
    "\n",
    "# Расшифровка label\n",
    "def get_spans(labels, tokens):\n",
    "\n",
    "    # Исправление неконсистентности\n",
    "    labels_new = []\n",
    "    subs = 0\n",
    "    for i, x in enumerate(labels[:-1]):\n",
    "        if i > 0: #если значение не нулевое, четное, а до этого не шло нечетное, то\n",
    "            if (x%2!=0) & ((labels[i+1]==x+1) | (labels[i+1]==x)): #(x%2==0) & (x>0) & (labels[i-1]!=x-1):\n",
    "                labels_new.append(x) #добавляем недостающее нечетное\n",
    "                subs = 1\n",
    "            elif (x%2!=0) & (subs == 1): \n",
    "                labels_new.append(x+1)\n",
    "            elif (x%2!=0) | (x==0):\n",
    "                labels_new.append(x)\n",
    "                subs = 0\n",
    "            elif (x%2==0) & (subs==1) & (labels[i+1]==x):\n",
    "                labels_new.append(x)\n",
    "            elif (x%2==0) & (subs==1) & (labels[i+1]!=x):\n",
    "                labels_new.append(x)\n",
    "                subs = 0\n",
    "            elif (x%2==0) & (subs==0):\n",
    "                labels_new.append(x-1)\n",
    "                subs = 1\n",
    "        else:\n",
    "            if (x%2==0) & (x>0):\n",
    "                labels_new.append(x-1) #если первый элемент четный, заменяем его на нечетный\n",
    "            else:\n",
    "                labels_new.append(x)\n",
    "    labels_new.append(labels[-1])\n",
    "\n",
    "    spans = []\n",
    "    for i, label in enumerate(labels_new):\n",
    "        if label == 1:\n",
    "            spans.append((tokens[i].start, tokens[i].stop, \"BIN\"))\n",
    "        elif label == 2:\n",
    "            spans[-1] = (spans[-1][0], tokens[i].stop, spans[-1][-1])\n",
    "        elif label == 3:\n",
    "            spans.append((tokens[i].start, tokens[i].stop, \"ECO\"))\n",
    "        elif label == 4:\n",
    "            spans[-1] = (spans[-1][0], tokens[i].stop, spans[-1][-1])\n",
    "        elif label == 5:\n",
    "            spans.append((tokens[i].start, tokens[i].stop, \"INST\"))\n",
    "        elif label == 6:\n",
    "            spans[-1] = (spans[-1][0], tokens[i].stop, spans[-1][-1])\n",
    "        elif label == 7:\n",
    "            spans.append((tokens[i].start, tokens[i].stop, \"CMP\"))\n",
    "        elif label == 8:\n",
    "            spans[-1] = (spans[-1][0], tokens[i].stop, spans[-1][-1])\n",
    "        elif label == 9:\n",
    "            spans.append((tokens[i].start, tokens[i].stop, \"ACT\"))\n",
    "        elif label == 10:\n",
    "            spans[-1] = (spans[-1][0], tokens[i].stop, spans[-1][-1])\n",
    "        elif label == 11:\n",
    "            spans.append((tokens[i].start, tokens[i].stop, \"MET\"))\n",
    "        elif label == 12:\n",
    "            spans[-1] = (spans[-1][0], tokens[i].stop,  spans[-1][-1])\n",
    "        elif label == 13:\n",
    "            spans.append((tokens[i].start, tokens[i].stop, \"QUA\"))\n",
    "        elif label == 14:\n",
    "            spans[-1] = (spans[-1][0], tokens[i].stop, spans[-1][-1])\n",
    "        elif label == 15:\n",
    "            spans.append((tokens[i].start, tokens[i].stop, \"SOC\"))\n",
    "        elif label == 16:\n",
    "            spans[-1] = (spans[-1][0], tokens[i].stop, spans[-1][-1])            \n",
    "    return spans           "
   ]
  },
  {
   "cell_type": "markdown",
   "metadata": {},
   "source": [
    "### Подготовка данных"
   ]
  },
  {
   "cell_type": "markdown",
   "metadata": {},
   "source": [
    "#### Чтение train"
   ]
  },
  {
   "cell_type": "code",
   "execution_count": 4,
   "metadata": {
    "ExecuteTime": {
     "end_time": "2020-05-05T19:13:34.938401Z",
     "start_time": "2020-05-05T19:13:34.615664Z"
    }
   },
   "outputs": [
    {
     "data": {
      "text/plain": [
       "188"
      ]
     },
     "execution_count": 4,
     "metadata": {},
     "output_type": "execute_result"
    }
   ],
   "source": [
    "paths = []\n",
    "\n",
    "for i in range(1,4):\n",
    "#    directory = 'C:/Users/s-ir/Documents/DS/NLP_advanced/week4/part2/RuREBus-master/train_data/train_part_'+str(i)+'/'\n",
    "    directory = 'D:/NLP_advanced/week4/part2/RuREBus-master/train_data/train_part_'+str(i)+'/'\n",
    "\n",
    "    for sample_name in os.listdir(directory):\n",
    "        sample_path = os.path.join(directory, sample_name[:-4])\n",
    "        paths.append(sample_path)\n",
    "\n",
    "paths = list(set(paths))\n",
    "\n",
    "data_train = []\n",
    "for sample_name in paths:\n",
    "    data_train.append(read_text_with_markup(sample_name))\n",
    "    \n",
    "len(data_train)"
   ]
  },
  {
   "cell_type": "markdown",
   "metadata": {
    "ExecuteTime": {
     "end_time": "2020-05-05T10:03:02.220046Z",
     "start_time": "2020-05-05T10:03:02.218052Z"
    }
   },
   "source": [
    "#### Чтение test"
   ]
  },
  {
   "cell_type": "code",
   "execution_count": 5,
   "metadata": {
    "ExecuteTime": {
     "end_time": "2020-05-05T19:13:35.918627Z",
     "start_time": "2020-05-05T19:13:35.344123Z"
    }
   },
   "outputs": [
    {
     "data": {
      "text/plain": [
       "544"
      ]
     },
     "execution_count": 5,
     "metadata": {},
     "output_type": "execute_result"
    }
   ],
   "source": [
    "paths = []\n",
    "\n",
    "for i in range(1,4):\n",
    "#    directory = 'C:/Users/s-ir/Documents/DS/NLP_advanced/week4/part2/RuREBus-master/test_data/'\n",
    "    directory = 'D:/NLP_advanced/week4/part2/RuREBus-master/test_data/'\n",
    "\n",
    "    for sample_name in os.listdir(directory):\n",
    "        sample_path = os.path.join(directory, sample_name[:-4])\n",
    "        paths.append(sample_path)\n",
    "\n",
    "paths = list(set(paths))\n",
    "\n",
    "data_test = []\n",
    "for sample_name in paths:\n",
    "    data_test.append(read_text_with_markup(sample_name))\n",
    "    \n",
    "len(data_test)"
   ]
  },
  {
   "cell_type": "code",
   "execution_count": 7,
   "metadata": {
    "ExecuteTime": {
     "end_time": "2020-05-05T10:08:31.888865Z",
     "start_time": "2020-05-05T10:08:31.882873Z"
    },
    "scrolled": true
   },
   "outputs": [
    {
     "data": {
      "text/html": [
       "<div class=\"tex2jax_ignore\" style=\"white-space: pre-wrap\">Приложение \n",
       "к Постановлению \n",
       "<span style=\"padding: 2px; border-radius: 4px; border: 1px solid #d1c4e9; background: #ede7f6\">администрации города Рязани<span style=\"vertical-align: middle; margin-left: 2px; font-size: 0.7em; color: #9575cd;\">INST</span></span> \n",
       "от 29 сентября 2015 г. N 4551 \n",
       "МУНИЦИПАЛЬНАЯ ПРОГРАММА \n",
       "&quot; <span style=\"padding: 2px; border-radius: 4px; border: 1px solid #ffe0b2; background: #fff3e0\">ПРОФИЛАКТИКА ПРАВОНАРУШЕНИЙ<span style=\"vertical-align: middle; margin-left: 2px; font-size: 0.7em; color: #ffb74d;\">ACT</span></span> В ГОРОДЕ РЯЗАНИ &quot; \n",
       "НА 2016 - 2020 ГОДЫ \n",
       "ПАСПОРТ \n",
       "муниципальной программы &quot; <span style=\"padding: 2px; border-radius: 4px; border: 1px solid #ffe0b2; background: #fff3e0\">Профилактика правонарушений<span style=\"vertical-align: middle; margin-left: 2px; font-size: 0.7em; color: #ffb74d;\">ACT</span></span> \n",
       "в городе Рязани &quot; на 2016 - 2020 годы ( далее - Программа ) \n",
       "Примечание : * - прогнозное значение . \n",
       "I. \n",
       "Характеристика текущего состояния сферы \n",
       "правопорядка на территории города Рязани \n",
       "1. \n",
       "<span style=\"padding: 2px; border-radius: 4px; border: 1px solid #ffcdd2; background: #ffebee\">Общественная безопасность<span style=\"vertical-align: middle; margin-left: 2px; font-size: 0.7em; color: #e57373;\">SOC</span></span> , <span style=\"padding: 2px; border-radius: 4px; border: 1px solid #ffcdd2; background: #ffebee\">общественный порядок<span style=\"vertical-align: middle; margin-left: 2px; font-size: 0.7em; color: #e57373;\">SOC</span></span> , \n",
       "<span style=\"padding: 2px; border-radius: 4px; border: 1px solid #ffe0b2; background: #fff3e0\">профилактика правонарушений<span style=\"vertical-align: middle; margin-left: 2px; font-size: 0.7em; color: #ffb74d;\">ACT</span></span> \n",
       "Ежегодно <span style=\"padding: 2px; border-radius: 4px; border: 1px solid #d7ccc8; background: #efebe9\">увеличивается<span style=\"vertical-align: middle; margin-left: 2px; font-size: 0.7em; color: #a1887f;\">CMP</span></span> <span style=\"padding: 2px; border-radius: 4px; border: 1px solid #ffcdd2; background: #ffebee\">число общественно - политических , культурно - развлекательных и спортивно - массовых мероприятий<span style=\"vertical-align: middle; margin-left: 2px; font-size: 0.7em; color: #e57373;\">MET</span></span> . \n",
       "Если за 12 месяцев 2013 года было <span style=\"padding: 2px; border-radius: 4px; border: 1px solid #bbdefb; background: #e3f2fd\">проведено<span style=\"vertical-align: middle; margin-left: 2px; font-size: 0.7em; color: #64b5f6;\">BIN</span></span> 655 <span style=\"padding: 2px; border-radius: 4px; border: 1px solid #bbdefb; background: #e3f2fd\">крупных<span style=\"vertical-align: middle; margin-left: 2px; font-size: 0.7em; color: #64b5f6;\">QUA</span></span> <span style=\"padding: 2px; border-radius: 4px; border: 1px solid #ffe0b2; background: #fff3e0\">мероприятий<span style=\"vertical-align: middle; margin-left: 2px; font-size: 0.7em; color: #ffb74d;\">ACT</span></span> с <span style=\"padding: 2px; border-radius: 4px; border: 1px solid #ffcdd2; background: #ffebee\">массовым пребыванием людей общим числом участников<span style=\"vertical-align: middle; margin-left: 2px; font-size: 0.7em; color: #e57373;\">MET</span></span> 264,6 тысячи человек , то за 12 месяцев 2014 года их <span style=\"padding: 2px; border-radius: 4px; border: 1px solid #ffcdd2; background: #ffebee\">число<span style=\"vertical-align: middle; margin-left: 2px; font-size: 0.7em; color: #e57373;\">MET</span></span> <span style=\"padding: 2px; border-radius: 4px; border: 1px solid #d7ccc8; background: #efebe9\">выросло<span style=\"vertical-align: middle; margin-left: 2px; font-size: 0.7em; color: #a1887f;\">CMP</span></span> почти в 1,5 раза и составило 816 с <span style=\"padding: 2px; border-radius: 4px; border: 1px solid #ffcdd2; background: #ffebee\">общим числом участников<span style=\"vertical-align: middle; margin-left: 2px; font-size: 0.7em; color: #e57373;\">MET</span></span> 374,2 тысячи человек . \n",
       "Существенно <span style=\"padding: 2px; border-radius: 4px; border: 1px solid #d7ccc8; background: #efebe9\">возросла<span style=\"vertical-align: middle; margin-left: 2px; font-size: 0.7em; color: #a1887f;\">CMP</span></span> <span style=\"padding: 2px; border-radius: 4px; border: 1px solid #ffcdd2; background: #ffebee\">политизация общества<span style=\"vertical-align: middle; margin-left: 2px; font-size: 0.7em; color: #e57373;\">SOC</span></span> . \n",
       "Если в 2013 году 379 мероприятий носило общественно - политический характер , то в 2014 году их <span style=\"padding: 2px; border-radius: 4px; border: 1px solid #ffcdd2; background: #ffebee\">число<span style=\"vertical-align: middle; margin-left: 2px; font-size: 0.7em; color: #e57373;\">MET</span></span> <span style=\"padding: 2px; border-radius: 4px; border: 1px solid #d7ccc8; background: #efebe9\">возросло<span style=\"vertical-align: middle; margin-left: 2px; font-size: 0.7em; color: #a1887f;\">CMP</span></span> до 587 . \n",
       "На 01.01.2015 <span style=\"padding: 2px; border-radius: 4px; border: 1px solid #ffcdd2; background: #ffebee\">Народная дружина<span style=\"vertical-align: middle; margin-left: 2px; font-size: 0.7em; color: #e57373;\">SOC</span></span> города Рязани состояла из 39 отрядов <span style=\"padding: 2px; border-radius: 4px; border: 1px solid #ffcdd2; background: #ffebee\">общей численностью<span style=\"vertical-align: middle; margin-left: 2px; font-size: 0.7em; color: #e57373;\">MET</span></span> 565 человек . \n",
       "За 2014 год дружинниками <span style=\"padding: 2px; border-radius: 4px; border: 1px solid #bbdefb; background: #e3f2fd\">проведен<span style=\"vertical-align: middle; margin-left: 2px; font-size: 0.7em; color: #64b5f6;\">BIN</span></span> 5471 <span style=\"padding: 2px; border-radius: 4px; border: 1px solid #ffe0b2; background: #fff3e0\">выход на дежурство<span style=\"vertical-align: middle; margin-left: 2px; font-size: 0.7em; color: #ffb74d;\">ACT</span></span> , в том числе 3253 <span style=\"padding: 2px; border-radius: 4px; border: 1px solid #ffe0b2; background: #fff3e0\">патрулирования улиц<span style=\"vertical-align: middle; margin-left: 2px; font-size: 0.7em; color: #ffb74d;\">ACT</span></span> , 1603 <span style=\"padding: 2px; border-radius: 4px; border: 1px solid #ffe0b2; background: #fff3e0\">дежурства по охране правопорядка на мероприятиях с массовым пребыванием людей<span style=\"vertical-align: middle; margin-left: 2px; font-size: 0.7em; color: #ffb74d;\">ACT</span></span> , 478 <span style=\"padding: 2px; border-radius: 4px; border: 1px solid #ffe0b2; background: #fff3e0\">дежурств по участию в проводимых правоохранительными органами оперативно - профилактических мероприятиях<span style=\"vertical-align: middle; margin-left: 2px; font-size: 0.7em; color: #ffb74d;\">ACT</span></span> . \n",
       "<span style=\"padding: 2px; border-radius: 4px; border: 1px solid #ffcdd2; background: #ffebee\">Народными дружинниками<span style=\"vertical-align: middle; margin-left: 2px; font-size: 0.7em; color: #e57373;\">SOC</span></span> совместно с <span style=\"padding: 2px; border-radius: 4px; border: 1px solid #d1c4e9; background: #ede7f6\">органами внутренних дел<span style=\"vertical-align: middle; margin-left: 2px; font-size: 0.7em; color: #9575cd;\">INST</span></span> за 2014 год <span style=\"padding: 2px; border-radius: 4px; border: 1px solid #bbdefb; background: #e3f2fd\">пресечено<span style=\"vertical-align: middle; margin-left: 2px; font-size: 0.7em; color: #64b5f6;\">BIN</span></span> 689 <span style=\"padding: 2px; border-radius: 4px; border: 1px solid #ffe0b2; background: #fff3e0\">административных правонарушений<span style=\"vertical-align: middle; margin-left: 2px; font-size: 0.7em; color: #ffb74d;\">ACT</span></span> , <span style=\"padding: 2px; border-radius: 4px; border: 1px solid #bbdefb; background: #e3f2fd\">раскрыто<span style=\"vertical-align: middle; margin-left: 2px; font-size: 0.7em; color: #64b5f6;\">BIN</span></span> 4 <span style=\"padding: 2px; border-radius: 4px; border: 1px solid #ffe0b2; background: #fff3e0\">преступления<span style=\"vertical-align: middle; margin-left: 2px; font-size: 0.7em; color: #ffb74d;\">ACT</span></span> . \n",
       "За 6 месяцев 2015 года дружинниками <span style=\"padding: 2px; border-radius: 4px; border: 1px solid #bbdefb; background: #e3f2fd\">проведено<span style=\"vertical-align: middle; margin-left: 2px; font-size: 0.7em; color: #64b5f6;\">BIN</span></span> уже 6412 <span style=\"padding: 2px; border-radius: 4px; border: 1px solid #ffe0b2; background: #fff3e0\">дежурств<span style=\"vertical-align: middle; margin-left: 2px; font-size: 0.7em; color: #ffb74d;\">ACT</span></span> , <span style=\"padding: 2px; border-radius: 4px; border: 1px solid #bbdefb; background: #e3f2fd\">пресечено<span style=\"vertical-align: middle; margin-left: 2px; font-size: 0.7em; color: #64b5f6;\">BIN</span></span> 334 <span style=\"padding: 2px; border-radius: 4px; border: 1px solid #ffe0b2; background: #fff3e0\">административных правонарушения<span style=\"vertical-align: middle; margin-left: 2px; font-size: 0.7em; color: #ffb74d;\">ACT</span></span> . \n",
       "По итогам 6 месяцев 2015 года состояние правопорядка на территории города Рязани характеризуется <span style=\"padding: 2px; border-radius: 4px; border: 1px solid #d7ccc8; background: #efebe9\">увеличением<span style=\"vertical-align: middle; margin-left: 2px; font-size: 0.7em; color: #a1887f;\">CMP</span></span> <span style=\"padding: 2px; border-radius: 4px; border: 1px solid #ffcdd2; background: #ffebee\">количества совершенных криминальных деяний<span style=\"vertical-align: middle; margin-left: 2px; font-size: 0.7em; color: #e57373;\">MET</span></span> ( с 2255 до 2289 , +1,5  % ) , в том числе <span style=\"padding: 2px; border-radius: 4px; border: 1px solid #bbdefb; background: #e3f2fd\">тяжких<span style=\"vertical-align: middle; margin-left: 2px; font-size: 0.7em; color: #64b5f6;\">QUA</span></span> и <span style=\"padding: 2px; border-radius: 4px; border: 1px solid #bbdefb; background: #e3f2fd\">особо тяжких<span style=\"vertical-align: middle; margin-left: 2px; font-size: 0.7em; color: #64b5f6;\">QUA</span></span> проявлений ( с 880 до 926 , +5,2  % ) . \n",
       "В <span style=\"padding: 2px; border-radius: 4px; border: 1px solid #d1c4e9; background: #ede7f6\">подразделениях полиции города Рязани<span style=\"vertical-align: middle; margin-left: 2px; font-size: 0.7em; color: #9575cd;\">INST</span></span> зарегистрировано почти 44 тысячи сообщений о <span style=\"padding: 2px; border-radius: 4px; border: 1px solid #ffe0b2; background: #fff3e0\">противоправных действиях<span style=\"vertical-align: middle; margin-left: 2px; font-size: 0.7em; color: #ffb74d;\">ACT</span></span> . \n",
       "<span style=\"padding: 2px; border-radius: 4px; border: 1px solid #bbdefb; background: #e3f2fd\">Отмечается<span style=\"vertical-align: middle; margin-left: 2px; font-size: 0.7em; color: #64b5f6;\">BIN</span></span> <span style=\"padding: 2px; border-radius: 4px; border: 1px solid #d7ccc8; background: #efebe9\">рост<span style=\"vertical-align: middle; margin-left: 2px; font-size: 0.7em; color: #a1887f;\">CMP</span></span> <span style=\"padding: 2px; border-radius: 4px; border: 1px solid #ffcdd2; background: #ffebee\">числа<span style=\"vertical-align: middle; margin-left: 2px; font-size: 0.7em; color: #e57373;\">MET</span></span> ( с 717 до 789 , +  11,3  % ) и <span style=\"padding: 2px; border-radius: 4px; border: 1px solid #ffcdd2; background: #ffebee\">удельного веса<span style=\"vertical-align: middle; margin-left: 2px; font-size: 0.7em; color: #e57373;\">MET</span></span> ( с 31,8  % до 34,9  % ) <span style=\"padding: 2px; border-radius: 4px; border: 1px solid #ffe0b2; background: #fff3e0\">преступлений , совершенных в общественных местах<span style=\"vertical-align: middle; margin-left: 2px; font-size: 0.7em; color: #ffb74d;\">ACT</span></span> . \n",
       "Несмотря на <span style=\"padding: 2px; border-radius: 4px; border: 1px solid #bbdefb; background: #e3f2fd\">небольшое<span style=\"vertical-align: middle; margin-left: 2px; font-size: 0.7em; color: #64b5f6;\">QUA</span></span> <span style=\"padding: 2px; border-radius: 4px; border: 1px solid #d7ccc8; background: #efebe9\">снижение<span style=\"vertical-align: middle; margin-left: 2px; font-size: 0.7em; color: #a1887f;\">CMP</span></span> ( с 482 до 465 , -3,5  % ) , <span style=\"padding: 2px; border-radius: 4px; border: 1px solid #ffcdd2; background: #ffebee\">удельный вес уличной преступности в общем массиве криминальных деяний<span style=\"vertical-align: middle; margin-left: 2px; font-size: 0.7em; color: #e57373;\">MET</span></span> по-прежнему остается свыше 20 процентов . \n",
       "Каждое пятое <span style=\"padding: 2px; border-radius: 4px; border: 1px solid #ffe0b2; background: #fff3e0\">преступление<span style=\"vertical-align: middle; margin-left: 2px; font-size: 0.7em; color: #ffb74d;\">ACT</span></span> совершено в состоянии опьянения ( 313 , или 20,3  % ) . \n",
       "<span style=\"padding: 2px; border-radius: 4px; border: 1px solid #bbdefb; background: #e3f2fd\">Отсутствуют<span style=\"vertical-align: middle; margin-left: 2px; font-size: 0.7em; color: #64b5f6;\">BIN</span></span> факты <span style=\"padding: 2px; border-radius: 4px; border: 1px solid #ffe0b2; background: #fff3e0\">совершения террористических актов и экстремистских проявлений<span style=\"vertical-align: middle; margin-left: 2px; font-size: 0.7em; color: #ffb74d;\">ACT</span></span> , однако <span style=\"padding: 2px; border-radius: 4px; border: 1px solid #ffe0b2; background: #fff3e0\">профилактическая работа по их предупреждению<span style=\"vertical-align: middle; margin-left: 2px; font-size: 0.7em; color: #ffb74d;\">ACT</span></span> остается <span style=\"padding: 2px; border-radius: 4px; border: 1px solid #bbdefb; background: #e3f2fd\">актуальной<span style=\"vertical-align: middle; margin-left: 2px; font-size: 0.7em; color: #64b5f6;\">QUA</span></span> . \n",
       "В <span style=\"padding: 2px; border-radius: 4px; border: 1px solid #c8e6c9; background: #e8f5e9\">региональных средствах массовой информации<span style=\"vertical-align: middle; margin-left: 2px; font-size: 0.7em; color: #66bb6a;\">ECO</span></span> за 6 месяцев 2015 года по вопросам <span style=\"padding: 2px; border-radius: 4px; border: 1px solid #ffe0b2; background: #fff3e0\">профилактики правонарушений<span style=\"vertical-align: middle; margin-left: 2px; font-size: 0.7em; color: #ffb74d;\">ACT</span></span> размещено 329 информационных материалов , в том числе : 52 - о деятельности <span style=\"padding: 2px; border-radius: 4px; border: 1px solid #ffcdd2; background: #ffebee\">народных дружин<span style=\"vertical-align: middle; margin-left: 2px; font-size: 0.7em; color: #e57373;\">SOC</span></span> , 49 - по <span style=\"padding: 2px; border-radius: 4px; border: 1px solid #ffe0b2; background: #fff3e0\">профилактике терроризма<span style=\"vertical-align: middle; margin-left: 2px; font-size: 0.7em; color: #ffb74d;\">ACT</span></span> , 172 - по <span style=\"padding: 2px; border-radius: 4px; border: 1px solid #ffe0b2; background: #fff3e0\">профилактике алкоголизма<span style=\"vertical-align: middle; margin-left: 2px; font-size: 0.7em; color: #ffb74d;\">ACT</span></span> , 56 - по <span style=\"padding: 2px; border-radius: 4px; border: 1px solid #ffe0b2; background: #fff3e0\">профилактике экстремизма<span style=\"vertical-align: middle; margin-left: 2px; font-size: 0.7em; color: #ffb74d;\">ACT</span></span> . \n",
       "<span style=\"padding: 2px; border-radius: 4px; border: 1px solid #d1c4e9; background: #ede7f6\">Префектурами<span style=\"vertical-align: middle; margin-left: 2px; font-size: 0.7em; color: #9575cd;\">INST</span></span> в <span style=\"padding: 2px; border-radius: 4px; border: 1px solid #c8e6c9; background: #e8f5e9\">средствах массовой информации<span style=\"vertical-align: middle; margin-left: 2px; font-size: 0.7em; color: #66bb6a;\">ECO</span></span> размещено 20 материалов о деятельности <span style=\"padding: 2px; border-radius: 4px; border: 1px solid #ffcdd2; background: #ffebee\">народных дружинников<span style=\"vertical-align: middle; margin-left: 2px; font-size: 0.7em; color: #e57373;\">SOC</span></span> . \n",
       "В целях <span style=\"padding: 2px; border-radius: 4px; border: 1px solid #d7ccc8; background: #efebe9\">укрепления<span style=\"vertical-align: middle; margin-left: 2px; font-size: 0.7em; color: #a1887f;\">CMP</span></span> <span style=\"padding: 2px; border-radius: 4px; border: 1px solid #ffcdd2; background: #ffebee\">анти  террористической защищенности<span style=\"vertical-align: middle; margin-left: 2px; font-size: 0.7em; color: #e57373;\">SOC</span></span> в первом полугодии 2015 года <span style=\"padding: 2px; border-radius: 4px; border: 1px solid #bbdefb; background: #e3f2fd\">проведены<span style=\"vertical-align: middle; margin-left: 2px; font-size: 0.7em; color: #64b5f6;\">BIN</span></span> <span style=\"padding: 2px; border-radius: 4px; border: 1px solid #ffe0b2; background: #fff3e0\">комиссионные обследования<span style=\"vertical-align: middle; margin-left: 2px; font-size: 0.7em; color: #ffb74d;\">ACT</span></span> 64 <span style=\"padding: 2px; border-radius: 4px; border: 1px solid #c8e6c9; background: #e8f5e9\">объектов возможных террористических посягательств<span style=\"vertical-align: middle; margin-left: 2px; font-size: 0.7em; color: #66bb6a;\">ECO</span></span> , в том числе 1 <span style=\"padding: 2px; border-radius: 4px; border: 1px solid #c8e6c9; background: #e8f5e9\">объект жизнеобеспечения<span style=\"vertical-align: middle; margin-left: 2px; font-size: 0.7em; color: #66bb6a;\">ECO</span></span> ( <span style=\"padding: 2px; border-radius: 4px; border: 1px solid #d1c4e9; background: #ede7f6\">Окская ОВС МП &quot; Водоканал города Рязани &quot;<span style=\"vertical-align: middle; margin-left: 2px; font-size: 0.7em; color: #9575cd;\">INST</span></span> ) , 63 <span style=\"padding: 2px; border-radius: 4px; border: 1px solid #c8e6c9; background: #e8f5e9\">объекта с массовым пребыванием людей<span style=\"vertical-align: middle; margin-left: 2px; font-size: 0.7em; color: #66bb6a;\">ECO</span></span> ( 24 - <span style=\"padding: 2px; border-radius: 4px; border: 1px solid #c8e6c9; background: #e8f5e9\">средние общеобразовательные школы<span style=\"vertical-align: middle; margin-left: 2px; font-size: 0.7em; color: #66bb6a;\">ECO</span></span> , 38 - <span style=\"padding: 2px; border-radius: 4px; border: 1px solid #c8e6c9; background: #e8f5e9\">детских садов<span style=\"vertical-align: middle; margin-left: 2px; font-size: 0.7em; color: #66bb6a;\">ECO</span></span> , 1 - <span style=\"padding: 2px; border-radius: 4px; border: 1px solid #c8e6c9; background: #e8f5e9\">детская музыкальная школа<span style=\"vertical-align: middle; margin-left: 2px; font-size: 0.7em; color: #66bb6a;\">ECO</span></span> ) . \n",
       "Комиссией даны рекомендации по устранению выявленных в ходе проведенных обследований недостатков . \n",
       "2. \n",
       "<span style=\"padding: 2px; border-radius: 4px; border: 1px solid #ffe0b2; background: #fff3e0\">Профилактика возникновения зависимости<span style=\"vertical-align: middle; margin-left: 2px; font-size: 0.7em; color: #ffb74d;\">ACT</span></span> от потребления \n",
       "наркотиков и иных психоактивных веществ у детей \n",
       "и молодежи в городе Рязани \n",
       "Отмечается некоторое <span style=\"padding: 2px; border-radius: 4px; border: 1px solid #d7ccc8; background: #efebe9\">улучшение<span style=\"vertical-align: middle; margin-left: 2px; font-size: 0.7em; color: #a1887f;\">CMP</span></span> в состоянии <span style=\"padding: 2px; border-radius: 4px; border: 1px solid #ffcdd2; background: #ffebee\">уровня нарко  преступности<span style=\"vertical-align: middle; margin-left: 2px; font-size: 0.7em; color: #e57373;\">MET</span></span> . \n",
       "За 6 месяцев 2015 года <span style=\"padding: 2px; border-radius: 4px; border: 1px solid #bbdefb; background: #e3f2fd\">выявлено<span style=\"vertical-align: middle; margin-left: 2px; font-size: 0.7em; color: #64b5f6;\">BIN</span></span> 431 такое <span style=\"padding: 2px; border-radius: 4px; border: 1px solid #ffe0b2; background: #fff3e0\">преступление<span style=\"vertical-align: middle; margin-left: 2px; font-size: 0.7em; color: #ffb74d;\">ACT</span></span> , что на 3,8  % меньше , чем за аналогичный период прошлого года . \n",
       "В то же время <span style=\"padding: 2px; border-radius: 4px; border: 1px solid #ffcdd2; background: #ffebee\">количество изъятых наркотиков<span style=\"vertical-align: middle; margin-left: 2px; font-size: 0.7em; color: #e57373;\">MET</span></span> <span style=\"padding: 2px; border-radius: 4px; border: 1px solid #d7ccc8; background: #efebe9\">возросло<span style=\"vertical-align: middle; margin-left: 2px; font-size: 0.7em; color: #a1887f;\">CMP</span></span> с 31,9 кг до 36,4 кг . \n",
       "По итогам 6 месяцев 2015 года с 665 до 898 <span style=\"padding: 2px; border-radius: 4px; border: 1px solid #d7ccc8; background: #efebe9\">возросло<span style=\"vertical-align: middle; margin-left: 2px; font-size: 0.7em; color: #a1887f;\">CMP</span></span> <span style=\"padding: 2px; border-radius: 4px; border: 1px solid #ffcdd2; background: #ffebee\">число лиц , состоящих на диспансерном учете в специализированном медучреждении с диагнозом &quot; наркомания &quot;<span style=\"vertical-align: middle; margin-left: 2px; font-size: 0.7em; color: #e57373;\">MET</span></span> . \n",
       "В докладе о нарко  ситуации в Рязанской области за 2014 год , подготовленном <span style=\"padding: 2px; border-radius: 4px; border: 1px solid #d1c4e9; background: #ede7f6\">Правительством Рязанской области<span style=\"vertical-align: middle; margin-left: 2px; font-size: 0.7em; color: #9575cd;\">INST</span></span> , отмечается , что в городе Рязани <span style=\"padding: 2px; border-radius: 4px; border: 1px solid #ffcdd2; background: #ffebee\">число выявленных лиц с впервые в жизни установленным диагнозом &quot; наркомания &quot;<span style=\"vertical-align: middle; margin-left: 2px; font-size: 0.7em; color: #e57373;\">MET</span></span> в 2014 году <span style=\"padding: 2px; border-radius: 4px; border: 1px solid #d7ccc8; background: #efebe9\">увеличилось<span style=\"vertical-align: middle; margin-left: 2px; font-size: 0.7em; color: #a1887f;\">CMP</span></span> с 40 до 206 человек , а <span style=\"padding: 2px; border-radius: 4px; border: 1px solid #ffcdd2; background: #ffebee\">первичная заболеваемость<span style=\"vertical-align: middle; margin-left: 2px; font-size: 0.7em; color: #e57373;\">MET</span></span> , соответственно , <span style=\"padding: 2px; border-radius: 4px; border: 1px solid #d7ccc8; background: #efebe9\">выросла<span style=\"vertical-align: middle; margin-left: 2px; font-size: 0.7em; color: #a1887f;\">CMP</span></span> с 7,6 до 38,8 на 100 тыс. населения , или в 5 раз . \n",
       "<span style=\"padding: 2px; border-radius: 4px; border: 1px solid #d7ccc8; background: #efebe9\">Ухудшение<span style=\"vertical-align: middle; margin-left: 2px; font-size: 0.7em; color: #a1887f;\">CMP</span></span> <span style=\"padding: 2px; border-radius: 4px; border: 1px solid #ffcdd2; background: #ffebee\">показателей развития нарко  ситуации<span style=\"vertical-align: middle; margin-left: 2px; font-size: 0.7em; color: #e57373;\">MET</span></span> связано с распространением среди населения потребления растительных каннабиноидов , синтетических наркотических средств , входящих в состав курительных смесей - &quot; Спайсов &quot; , психо  стимуляторов . \n",
       "Из 10 <span style=\"padding: 2px; border-radius: 4px; border: 1px solid #ffcdd2; background: #ffebee\">оцениваемых показателей нарко  ситуации<span style=\"vertical-align: middle; margin-left: 2px; font-size: 0.7em; color: #e57373;\">MET</span></span> в Рязанской области только по 2 <span style=\"padding: 2px; border-radius: 4px; border: 1px solid #ffcdd2; background: #ffebee\">показателям<span style=\"vertical-align: middle; margin-left: 2px; font-size: 0.7em; color: #e57373;\">MET</span></span> ее состояние характеризуется как &quot; <span style=\"padding: 2px; border-radius: 4px; border: 1px solid #bbdefb; background: #e3f2fd\">удовлетворительное<span style=\"vertical-align: middle; margin-left: 2px; font-size: 0.7em; color: #64b5f6;\">QUA</span></span> &quot; , по 4 - как &quot; <span style=\"padding: 2px; border-radius: 4px; border: 1px solid #bbdefb; background: #e3f2fd\">тяжелое<span style=\"vertical-align: middle; margin-left: 2px; font-size: 0.7em; color: #64b5f6;\">QUA</span></span> &quot; , по 3 - как &quot; <span style=\"padding: 2px; border-radius: 4px; border: 1px solid #bbdefb; background: #e3f2fd\">пред  кризисное<span style=\"vertical-align: middle; margin-left: 2px; font-size: 0.7em; color: #64b5f6;\">QUA</span></span> &quot; и &quot; <span style=\"padding: 2px; border-radius: 4px; border: 1px solid #bbdefb; background: #e3f2fd\">кризисное<span style=\"vertical-align: middle; margin-left: 2px; font-size: 0.7em; color: #64b5f6;\">QUA</span></span> &quot; . \n",
       "Аналогичное положение наблюдается и в городе Рязани . \n",
       "По <span style=\"padding: 2px; border-radius: 4px; border: 1px solid #ffcdd2; background: #ffebee\">одному оцениваемому показателю<span style=\"vertical-align: middle; margin-left: 2px; font-size: 0.7em; color: #e57373;\">MET</span></span> <span style=\"padding: 2px; border-radius: 4px; border: 1px solid #ffcdd2; background: #ffebee\">состояние нарко  ситуации<span style=\"vertical-align: middle; margin-left: 2px; font-size: 0.7em; color: #e57373;\">MET</span></span> в городе Рязани <span style=\"padding: 2px; border-radius: 4px; border: 1px solid #bbdefb; background: #e3f2fd\">оценивается<span style=\"vertical-align: middle; margin-left: 2px; font-size: 0.7em; color: #64b5f6;\">BIN</span></span> как <span style=\"padding: 2px; border-radius: 4px; border: 1px solid #bbdefb; background: #e3f2fd\">удовлетворительное<span style=\"vertical-align: middle; margin-left: 2px; font-size: 0.7em; color: #64b5f6;\">QUA</span></span> , по двум - как <span style=\"padding: 2px; border-radius: 4px; border: 1px solid #bbdefb; background: #e3f2fd\">напряженное<span style=\"vertical-align: middle; margin-left: 2px; font-size: 0.7em; color: #64b5f6;\">QUA</span></span> , по одному - как <span style=\"padding: 2px; border-radius: 4px; border: 1px solid #bbdefb; background: #e3f2fd\">тяжелое<span style=\"vertical-align: middle; margin-left: 2px; font-size: 0.7em; color: #64b5f6;\">QUA</span></span> , по двум - как <span style=\"padding: 2px; border-radius: 4px; border: 1px solid #bbdefb; background: #e3f2fd\">кризисное<span style=\"vertical-align: middle; margin-left: 2px; font-size: 0.7em; color: #64b5f6;\">QUA</span></span> . \n",
       "По итогам проведенных в 2014 году <span style=\"padding: 2px; border-radius: 4px; border: 1px solid #ffe0b2; background: #fff3e0\">социально - психологических тестирований<span style=\"vertical-align: middle; margin-left: 2px; font-size: 0.7em; color: #ffb74d;\">ACT</span></span> 152 учащихся 36 <span style=\"padding: 2px; border-radius: 4px; border: 1px solid #d1c4e9; background: #ede7f6\">образовательных учреждений<span style=\"vertical-align: middle; margin-left: 2px; font-size: 0.7em; color: #9575cd;\">INST</span></span> города Рязани пробовали наркотики . \n",
       "В городе Рязани действует 150 волонтеров анти  наркотической направленности . \n",
       "В период с марта 2014 года по июнь 2015 года в <span style=\"padding: 2px; border-radius: 4px; border: 1px solid #ffe0b2; background: #fff3e0\">акциях &quot; Чистые стены &quot; по выявлению и уничтожению надписей на стенах домов , рекламирующих телефоны распространителей спайсов<span style=\"vertical-align: middle; margin-left: 2px; font-size: 0.7em; color: #ffb74d;\">ACT</span></span> , приняло участие более 300 волонтеров , закрашено более 2000 надписей . \n",
       "В целях <span style=\"padding: 2px; border-radius: 4px; border: 1px solid #d7ccc8; background: #efebe9\">улучшения<span style=\"vertical-align: middle; margin-left: 2px; font-size: 0.7em; color: #a1887f;\">CMP</span></span> <span style=\"padding: 2px; border-radius: 4px; border: 1px solid #bbdefb; background: #e3f2fd\">организации<span style=\"vertical-align: middle; margin-left: 2px; font-size: 0.7em; color: #64b5f6;\">BIN</span></span> <span style=\"padding: 2px; border-radius: 4px; border: 1px solid #ffe0b2; background: #fff3e0\">анти  наркотической работы<span style=\"vertical-align: middle; margin-left: 2px; font-size: 0.7em; color: #ffb74d;\">ACT</span></span> за 6 месяцев 2015 года <span style=\"padding: 2px; border-radius: 4px; border: 1px solid #bbdefb; background: #e3f2fd\">проведен<span style=\"vertical-align: middle; margin-left: 2px; font-size: 0.7em; color: #64b5f6;\">BIN</span></span> 1 &quot; <span style=\"padding: 2px; border-radius: 4px; border: 1px solid #ffe0b2; background: #fff3e0\">круглый стол<span style=\"vertical-align: middle; margin-left: 2px; font-size: 0.7em; color: #ffb74d;\">ACT</span></span> &quot; и 1 <span style=\"padding: 2px; border-radius: 4px; border: 1px solid #ffe0b2; background: #fff3e0\">семинар<span style=\"vertical-align: middle; margin-left: 2px; font-size: 0.7em; color: #ffb74d;\">ACT</span></span> . \n",
       "Возникает необходимость в <span style=\"padding: 2px; border-radius: 4px; border: 1px solid #d7ccc8; background: #efebe9\">повышении<span style=\"vertical-align: middle; margin-left: 2px; font-size: 0.7em; color: #a1887f;\">CMP</span></span> <span style=\"padding: 2px; border-radius: 4px; border: 1px solid #ffcdd2; background: #ffebee\">квалификации<span style=\"vertical-align: middle; margin-left: 2px; font-size: 0.7em; color: #e57373;\">SOC</span></span> , <span style=\"padding: 2px; border-radius: 4px; border: 1px solid #bbdefb; background: #e3f2fd\">обучении<span style=\"vertical-align: middle; margin-left: 2px; font-size: 0.7em; color: #64b5f6;\">BIN</span></span> <span style=\"padding: 2px; border-radius: 4px; border: 1px solid #ffcdd2; background: #ffebee\">специалистов<span style=\"vertical-align: middle; margin-left: 2px; font-size: 0.7em; color: #e57373;\">SOC</span></span> <span style=\"padding: 2px; border-radius: 4px; border: 1px solid #d1c4e9; background: #ede7f6\">образовательных , культурных и спортивных организаций города<span style=\"vertical-align: middle; margin-left: 2px; font-size: 0.7em; color: #9575cd;\">INST</span></span> , осуществляющих <span style=\"padding: 2px; border-radius: 4px; border: 1px solid #ffe0b2; background: #fff3e0\">профилактическую работу<span style=\"vertical-align: middle; margin-left: 2px; font-size: 0.7em; color: #ffb74d;\">ACT</span></span> с молодежью . \n",
       "За 6 месяцев 2015 года <span style=\"padding: 2px; border-radius: 4px; border: 1px solid #bbdefb; background: #e3f2fd\">проведено<span style=\"vertical-align: middle; margin-left: 2px; font-size: 0.7em; color: #64b5f6;\">BIN</span></span> 948 ( 2014 год - 308 ) <span style=\"padding: 2px; border-radius: 4px; border: 1px solid #ffe0b2; background: #fff3e0\">мероприятий анти  наркотической направленности<span style=\"vertical-align: middle; margin-left: 2px; font-size: 0.7em; color: #ffb74d;\">ACT</span></span> . \n",
       "В 2015 году в <span style=\"padding: 2px; border-radius: 4px; border: 1px solid #ffe0b2; background: #fff3e0\">профилактических мероприятиях анти  наркотической направленности<span style=\"vertical-align: middle; margin-left: 2px; font-size: 0.7em; color: #ffb74d;\">ACT</span></span> приняло участие 7678 человек . \n",
       "3. \n",
       "<span style=\"padding: 2px; border-radius: 4px; border: 1px solid #ffe0b2; background: #fff3e0\">Профилактика безнадзорности и правонарушений<span style=\"vertical-align: middle; margin-left: 2px; font-size: 0.7em; color: #ffb74d;\">ACT</span></span> \n",
       "несовершеннолетних в городе Рязани \n",
       "Несмотря на <span style=\"padding: 2px; border-radius: 4px; border: 1px solid #d7ccc8; background: #efebe9\">снижение<span style=\"vertical-align: middle; margin-left: 2px; font-size: 0.7em; color: #a1887f;\">CMP</span></span> <span style=\"padding: 2px; border-radius: 4px; border: 1px solid #ffcdd2; background: #ffebee\">числа преступлений , совершенных несовершеннолетними<span style=\"vertical-align: middle; margin-left: 2px; font-size: 0.7em; color: #e57373;\">MET</span></span> ( с 68 до 40 ) , <span style=\"padding: 2px; border-radius: 4px; border: 1px solid #ffcdd2; background: #ffebee\">актуальность проблемы подростковой преступности<span style=\"vertical-align: middle; margin-left: 2px; font-size: 0.7em; color: #e57373;\">MET</span></span> остается <span style=\"padding: 2px; border-radius: 4px; border: 1px solid #bbdefb; background: #e3f2fd\">высокой<span style=\"vertical-align: middle; margin-left: 2px; font-size: 0.7em; color: #64b5f6;\">QUA</span></span> . \n",
       "Каждое четвертое <span style=\"padding: 2px; border-radius: 4px; border: 1px solid #ffe0b2; background: #fff3e0\">криминальное посягательство<span style=\"vertical-align: middle; margin-left: 2px; font-size: 0.7em; color: #ffb74d;\">ACT</span></span> , совершенное несовершеннолетними , является <span style=\"padding: 2px; border-radius: 4px; border: 1px solid #bbdefb; background: #e3f2fd\">тяжким<span style=\"vertical-align: middle; margin-left: 2px; font-size: 0.7em; color: #64b5f6;\">QUA</span></span> и <span style=\"padding: 2px; border-radius: 4px; border: 1px solid #bbdefb; background: #e3f2fd\">особо тяжким<span style=\"vertical-align: middle; margin-left: 2px; font-size: 0.7em; color: #64b5f6;\">QUA</span></span> , каждое третье совершено на улице , более половины в ночное время . \n",
       "Подростками за 6 месяцев 2015 года <span style=\"padding: 2px; border-radius: 4px; border: 1px solid #bbdefb; background: #e3f2fd\">совершено<span style=\"vertical-align: middle; margin-left: 2px; font-size: 0.7em; color: #64b5f6;\">BIN</span></span> 7 <span style=\"padding: 2px; border-radius: 4px; border: 1px solid #ffe0b2; background: #fff3e0\">грабежей<span style=\"vertical-align: middle; margin-left: 2px; font-size: 0.7em; color: #ffb74d;\">ACT</span></span> , 27 <span style=\"padding: 2px; border-radius: 4px; border: 1px solid #ffe0b2; background: #fff3e0\">краж<span style=\"vertical-align: middle; margin-left: 2px; font-size: 0.7em; color: #ffb74d;\">ACT</span></span> . \n",
       "3 <span style=\"padding: 2px; border-radius: 4px; border: 1px solid #ffe0b2; background: #fff3e0\">преступления<span style=\"vertical-align: middle; margin-left: 2px; font-size: 0.7em; color: #ffb74d;\">ACT</span></span> <span style=\"padding: 2px; border-radius: 4px; border: 1px solid #bbdefb; background: #e3f2fd\">совершено<span style=\"vertical-align: middle; margin-left: 2px; font-size: 0.7em; color: #64b5f6;\">BIN</span></span> в состоянии опьянения , 2 - связаны с незаконным оборотом наркотиков . \n",
       "По итогам 6 месяцев 2015 года на учете в <span style=\"padding: 2px; border-radius: 4px; border: 1px solid #d1c4e9; background: #ede7f6\">комиссии по делам несовершеннолетних и защите их прав<span style=\"vertical-align: middle; margin-left: 2px; font-size: 0.7em; color: #9575cd;\">INST</span></span> состоят 125 подростков , совершивших <span style=\"padding: 2px; border-radius: 4px; border: 1px solid #ffe0b2; background: #fff3e0\">правонарушения<span style=\"vertical-align: middle; margin-left: 2px; font-size: 0.7em; color: #ffb74d;\">ACT</span></span> . \n",
       "В 2015 году 15 подростков снято с учета по исправлению . \n",
       "В <span style=\"padding: 2px; border-radius: 4px; border: 1px solid #ffe0b2; background: #fff3e0\">мероприятиях , направленных на профилактику безнадзорности и правонарушений несовершеннолетних<span style=\"vertical-align: middle; margin-left: 2px; font-size: 0.7em; color: #ffb74d;\">ACT</span></span> , в 2015 году приняло участие 5300 детей и подростков . \n",
       "<span style=\"padding: 2px; border-radius: 4px; border: 1px solid #bbdefb; background: #e3f2fd\">Требуется<span style=\"vertical-align: middle; margin-left: 2px; font-size: 0.7em; color: #64b5f6;\">BIN</span></span> <span style=\"padding: 2px; border-radius: 4px; border: 1px solid #ffe0b2; background: #fff3e0\">издание полиграфических материалов по проблемам профилактики безнадзорности и правонарушений несовершеннолетних<span style=\"vertical-align: middle; margin-left: 2px; font-size: 0.7em; color: #ffb74d;\">ACT</span></span> . \n",
       "Исходя из вышеуказанных тенденций в сфере состояния правопорядка на территории города Рязани , следующие направления работы <span style=\"padding: 2px; border-radius: 4px; border: 1px solid #bbdefb; background: #e3f2fd\">требуют<span style=\"vertical-align: middle; margin-left: 2px; font-size: 0.7em; color: #64b5f6;\">BIN</span></span> применения комплексного и системного подхода в рамках <span style=\"padding: 2px; border-radius: 4px; border: 1px solid #bbdefb; background: #e3f2fd\">реализации<span style=\"vertical-align: middle; margin-left: 2px; font-size: 0.7em; color: #64b5f6;\">BIN</span></span> Программы : \n",
       "- <span style=\"padding: 2px; border-radius: 4px; border: 1px solid #bbdefb; background: #e3f2fd\">привлечение<span style=\"vertical-align: middle; margin-left: 2px; font-size: 0.7em; color: #64b5f6;\">BIN</span></span> населения к <span style=\"padding: 2px; border-radius: 4px; border: 1px solid #ffe0b2; background: #fff3e0\">деятельности по охране общественного порядка<span style=\"vertical-align: middle; margin-left: 2px; font-size: 0.7em; color: #ffb74d;\">ACT</span></span> , в том числе путем <span style=\"padding: 2px; border-radius: 4px; border: 1px solid #c8e6c9; background: #e8f5e9\">денежного стимулирования<span style=\"vertical-align: middle; margin-left: 2px; font-size: 0.7em; color: #66bb6a;\">ECO</span></span> ; \n",
       "- <span style=\"padding: 2px; border-radius: 4px; border: 1px solid #bbdefb; background: #e3f2fd\">приобретение<span style=\"vertical-align: middle; margin-left: 2px; font-size: 0.7em; color: #64b5f6;\">BIN</span></span> <span style=\"padding: 2px; border-radius: 4px; border: 1px solid #c8e6c9; background: #e8f5e9\">технических устройств<span style=\"vertical-align: middle; margin-left: 2px; font-size: 0.7em; color: #66bb6a;\">ECO</span></span> для <span style=\"padding: 2px; border-radius: 4px; border: 1px solid #bbdefb; background: #e3f2fd\">обеспечения<span style=\"vertical-align: middle; margin-left: 2px; font-size: 0.7em; color: #64b5f6;\">BIN</span></span> <span style=\"padding: 2px; border-radius: 4px; border: 1px solid #ffcdd2; background: #ffebee\">безопасности граждан<span style=\"vertical-align: middle; margin-left: 2px; font-size: 0.7em; color: #e57373;\">SOC</span></span> ; \n",
       "- <span style=\"padding: 2px; border-radius: 4px; border: 1px solid #bbdefb; background: #e3f2fd\">проведение<span style=\"vertical-align: middle; margin-left: 2px; font-size: 0.7em; color: #64b5f6;\">BIN</span></span> <span style=\"padding: 2px; border-radius: 4px; border: 1px solid #ffe0b2; background: #fff3e0\">мероприятий по профилактике правонарушений , алкоголизма , наркомании , терроризма и экстремизма , детской безнадзорности<span style=\"vertical-align: middle; margin-left: 2px; font-size: 0.7em; color: #ffb74d;\">ACT</span></span> и <span style=\"padding: 2px; border-radius: 4px; border: 1px solid #d7ccc8; background: #efebe9\">улучшение<span style=\"vertical-align: middle; margin-left: 2px; font-size: 0.7em; color: #a1887f;\">CMP</span></span> их методического обеспечения ; \n",
       "- <span style=\"padding: 2px; border-radius: 4px; border: 1px solid #d7ccc8; background: #efebe9\">усиление<span style=\"vertical-align: middle; margin-left: 2px; font-size: 0.7em; color: #a1887f;\">CMP</span></span> <span style=\"padding: 2px; border-radius: 4px; border: 1px solid #ffe0b2; background: #fff3e0\">пропаганды здорового и законопослушного образа жизни<span style=\"vertical-align: middle; margin-left: 2px; font-size: 0.7em; color: #ffb74d;\">ACT</span></span> . \n",
       "II. \n",
       "Приоритеты муниципальной политики в сфере \n",
       "<span style=\"padding: 2px; border-radius: 4px; border: 1px solid #ffe0b2; background: #fff3e0\">профилактики правонарушений<span style=\"vertical-align: middle; margin-left: 2px; font-size: 0.7em; color: #ffb74d;\">ACT</span></span> . \n",
       "Цель и задачи Программы \n",
       "Программа <span style=\"padding: 2px; border-radius: 4px; border: 1px solid #bbdefb; background: #e3f2fd\">разработана<span style=\"vertical-align: middle; margin-left: 2px; font-size: 0.7em; color: #64b5f6;\">BIN</span></span> в соответствии с основными стратегическими направлениями <span style=\"padding: 2px; border-radius: 4px; border: 1px solid #bbdefb; background: #e3f2fd\">развития<span style=\"vertical-align: middle; margin-left: 2px; font-size: 0.7em; color: #64b5f6;\">BIN</span></span> города Рязани , определенными Планом стратегического <span style=\"padding: 2px; border-radius: 4px; border: 1px solid #bbdefb; background: #e3f2fd\">развития<span style=\"vertical-align: middle; margin-left: 2px; font-size: 0.7em; color: #64b5f6;\">BIN</span></span> города Рязани до 2020 года , утвержденным решением <span style=\"padding: 2px; border-radius: 4px; border: 1px solid #d1c4e9; background: #ede7f6\">Рязанской городской Думы<span style=\"vertical-align: middle; margin-left: 2px; font-size: 0.7em; color: #9575cd;\">INST</span></span> от 26.03.2009 N 169-I , одним из основных межотраслевых направлений которого является <span style=\"padding: 2px; border-radius: 4px; border: 1px solid #bbdefb; background: #e3f2fd\">обеспечение<span style=\"vertical-align: middle; margin-left: 2px; font-size: 0.7em; color: #64b5f6;\">BIN</span></span> <span style=\"padding: 2px; border-radius: 4px; border: 1px solid #bbdefb; background: #e3f2fd\">качественной<span style=\"vertical-align: middle; margin-left: 2px; font-size: 0.7em; color: #64b5f6;\">QUA</span></span> городской среды . \n",
       "Одной из задач данного направления является <span style=\"padding: 2px; border-radius: 4px; border: 1px solid #bbdefb; background: #e3f2fd\">обеспечение<span style=\"vertical-align: middle; margin-left: 2px; font-size: 0.7em; color: #64b5f6;\">BIN</span></span> <span style=\"padding: 2px; border-radius: 4px; border: 1px solid #bbdefb; background: #e3f2fd\">безопасности<span style=\"vertical-align: middle; margin-left: 2px; font-size: 0.7em; color: #64b5f6;\">QUA</span></span> и <span style=\"padding: 2px; border-radius: 4px; border: 1px solid #ffcdd2; background: #ffebee\">общественного порядка<span style=\"vertical-align: middle; margin-left: 2px; font-size: 0.7em; color: #e57373;\">SOC</span></span> . \n",
       "Данная Программа базируется на основных положениях следующих нормативных правовых актов : \n",
       "- Федеральный закон от 06.03.2006 N 35 - ФЗ &quot; О <span style=\"padding: 2px; border-radius: 4px; border: 1px solid #ffe0b2; background: #fff3e0\">противодействии терроризму<span style=\"vertical-align: middle; margin-left: 2px; font-size: 0.7em; color: #ffb74d;\">ACT</span></span> &quot; ; \n",
       "- Федеральный закон от 25.07.2002 N 114 - ФЗ &quot; О <span style=\"padding: 2px; border-radius: 4px; border: 1px solid #ffe0b2; background: #fff3e0\">противодействии экстремистской деятельности<span style=\"vertical-align: middle; margin-left: 2px; font-size: 0.7em; color: #ffb74d;\">ACT</span></span> &quot; ; \n",
       "- Федеральный закон от 24.06.1999 N 120 - ФЗ &quot; Об основах системы <span style=\"padding: 2px; border-radius: 4px; border: 1px solid #ffe0b2; background: #fff3e0\">профилактики безнадзорности и правонарушений несовершеннолетних<span style=\"vertical-align: middle; margin-left: 2px; font-size: 0.7em; color: #ffb74d;\">ACT</span></span> &quot; ; \n",
       "- Федеральный закон от 08.01.1998 N 3 - ФЗ &quot; О наркотических средствах и психотропных веществах &quot; ; \n",
       "- Федеральный закон от 02.04.2014 N 44 - ФЗ &quot; Об участии граждан в <span style=\"padding: 2px; border-radius: 4px; border: 1px solid #ffe0b2; background: #fff3e0\">охране общественного порядка<span style=\"vertical-align: middle; margin-left: 2px; font-size: 0.7em; color: #ffb74d;\">ACT</span></span> &quot; ; \n",
       "- Закон Рязанской области от 14.11.2014 N 75-ОЗ &quot; О регулировании отдельных отношений , связанных с участием граждан в <span style=\"padding: 2px; border-radius: 4px; border: 1px solid #ffe0b2; background: #fff3e0\">охране общественного порядка<span style=\"vertical-align: middle; margin-left: 2px; font-size: 0.7em; color: #ffb74d;\">ACT</span></span> на территории Рязанской области &quot; ; \n",
       "- Закон Рязанской области от 03.07.2009 N 67-ОЗ &quot; Об <span style=\"padding: 2px; border-radius: 4px; border: 1px solid #bbdefb; background: #e3f2fd\">организации<span style=\"vertical-align: middle; margin-left: 2px; font-size: 0.7em; color: #64b5f6;\">BIN</span></span> <span style=\"padding: 2px; border-radius: 4px; border: 1px solid #ffe0b2; background: #fff3e0\">профилактики наркомании и токсикомании<span style=\"vertical-align: middle; margin-left: 2px; font-size: 0.7em; color: #ffb74d;\">ACT</span></span> на территории Рязанской области &quot; ; \n",
       "- Постановление <span style=\"padding: 2px; border-radius: 4px; border: 1px solid #d1c4e9; background: #ede7f6\">Правительства Рязанской области<span style=\"vertical-align: middle; margin-left: 2px; font-size: 0.7em; color: #9575cd;\">INST</span></span> от 29.10.2014 N 317 &quot; Об <span style=\"padding: 2px; border-radius: 4px; border: 1px solid #bbdefb; background: #e3f2fd\">утверждении<span style=\"vertical-align: middle; margin-left: 2px; font-size: 0.7em; color: #64b5f6;\">BIN</span></span> государственной программы Рязанской области &quot; <span style=\"padding: 2px; border-radius: 4px; border: 1px solid #ffe0b2; background: #fff3e0\">Профилактика правонарушений<span style=\"vertical-align: middle; margin-left: 2px; font-size: 0.7em; color: #ffb74d;\">ACT</span></span> и <span style=\"padding: 2px; border-radius: 4px; border: 1px solid #ffe0b2; background: #fff3e0\">предупреждение чрезвычайных ситуаций<span style=\"vertical-align: middle; margin-left: 2px; font-size: 0.7em; color: #ffb74d;\">ACT</span></span> на 2015 - 2020 годы &quot; ; \n",
       "- Постановление <span style=\"padding: 2px; border-radius: 4px; border: 1px solid #d1c4e9; background: #ede7f6\">Правительства Рязанской области<span style=\"vertical-align: middle; margin-left: 2px; font-size: 0.7em; color: #9575cd;\">INST</span></span> от 03.12.2004 N 160 &quot; О Порядке взаимодействия <span style=\"padding: 2px; border-radius: 4px; border: 1px solid #d1c4e9; background: #ede7f6\">органов<span style=\"vertical-align: middle; margin-left: 2px; font-size: 0.7em; color: #9575cd;\">INST</span></span> и <span style=\"padding: 2px; border-radius: 4px; border: 1px solid #d1c4e9; background: #ede7f6\">учреждений<span style=\"vertical-align: middle; margin-left: 2px; font-size: 0.7em; color: #9575cd;\">INST</span></span> системы <span style=\"padding: 2px; border-radius: 4px; border: 1px solid #ffe0b2; background: #fff3e0\">профилактики безнадзорности и правонарушений несовершеннолетних<span style=\"vertical-align: middle; margin-left: 2px; font-size: 0.7em; color: #ffb74d;\">ACT</span></span> по выявлению , дальнейшему устройству и <span style=\"padding: 2px; border-radius: 4px; border: 1px solid #ffe0b2; background: #fff3e0\">реабилитации безнадзорных и беспризорных детей<span style=\"vertical-align: middle; margin-left: 2px; font-size: 0.7em; color: #ffb74d;\">ACT</span></span> в Рязанской области &quot; . \n",
       "С учетом вышеуказанных направлений сформулированы цель и задачи Программы . \n",
       "Целью настоящей Программы является <span style=\"padding: 2px; border-radius: 4px; border: 1px solid #d7ccc8; background: #efebe9\">совершенствование<span style=\"vertical-align: middle; margin-left: 2px; font-size: 0.7em; color: #a1887f;\">CMP</span></span> системы <span style=\"padding: 2px; border-radius: 4px; border: 1px solid #ffe0b2; background: #fff3e0\">профилактики правонарушений<span style=\"vertical-align: middle; margin-left: 2px; font-size: 0.7em; color: #ffb74d;\">ACT</span></span> . \n",
       "<span style=\"padding: 2px; border-radius: 4px; border: 1px solid #bbdefb; background: #e3f2fd\">Достижение<span style=\"vertical-align: middle; margin-left: 2px; font-size: 0.7em; color: #64b5f6;\">BIN</span></span> цели Программы требует решения следующих задач : \n",
       "1. \n",
       "<span style=\"padding: 2px; border-radius: 4px; border: 1px solid #d7ccc8; background: #efebe9\">Повышение<span style=\"vertical-align: middle; margin-left: 2px; font-size: 0.7em; color: #a1887f;\">CMP</span></span> <span style=\"padding: 2px; border-radius: 4px; border: 1px solid #ffcdd2; background: #ffebee\">уровня общественной безопасности<span style=\"vertical-align: middle; margin-left: 2px; font-size: 0.7em; color: #e57373;\">MET</span></span> и <span style=\"padding: 2px; border-radius: 4px; border: 1px solid #bbdefb; background: #e3f2fd\">укрепление<span style=\"vertical-align: middle; margin-left: 2px; font-size: 0.7em; color: #64b5f6;\">BIN</span></span> <span style=\"padding: 2px; border-radius: 4px; border: 1px solid #ffcdd2; background: #ffebee\">общественного порядка<span style=\"vertical-align: middle; margin-left: 2px; font-size: 0.7em; color: #e57373;\">SOC</span></span> на основе <span style=\"padding: 2px; border-radius: 4px; border: 1px solid #d7ccc8; background: #efebe9\">совершенствования<span style=\"vertical-align: middle; margin-left: 2px; font-size: 0.7em; color: #a1887f;\">CMP</span></span> системы <span style=\"padding: 2px; border-radius: 4px; border: 1px solid #ffe0b2; background: #fff3e0\">профилактики правонарушений<span style=\"vertical-align: middle; margin-left: 2px; font-size: 0.7em; color: #ffb74d;\">ACT</span></span> . \n",
       "2. \n",
       "<span style=\"padding: 2px; border-radius: 4px; border: 1px solid #d7ccc8; background: #efebe9\">Совершенствование<span style=\"vertical-align: middle; margin-left: 2px; font-size: 0.7em; color: #a1887f;\">CMP</span></span> <span style=\"padding: 2px; border-radius: 4px; border: 1px solid #ffe0b2; background: #fff3e0\">профилактики возникновения зависимости от потребления наркотиков и иных психоактивных веществ у детей и молодежи<span style=\"vertical-align: middle; margin-left: 2px; font-size: 0.7em; color: #ffb74d;\">ACT</span></span> в городе Рязани . \n",
       "3. \n",
       "<span style=\"padding: 2px; border-radius: 4px; border: 1px solid #ffe0b2; background: #fff3e0\">Профилактика безнадзорности и правонарушений несовершеннолетних<span style=\"vertical-align: middle; margin-left: 2px; font-size: 0.7em; color: #ffb74d;\">ACT</span></span> в городе Рязани . \n",
       "Настоящая Программа <span style=\"padding: 2px; border-radius: 4px; border: 1px solid #bbdefb; background: #e3f2fd\">разработана<span style=\"vertical-align: middle; margin-left: 2px; font-size: 0.7em; color: #64b5f6;\">BIN</span></span> в соответствии с Постановлениями <span style=\"padding: 2px; border-radius: 4px; border: 1px solid #d1c4e9; background: #ede7f6\">администрации города Рязани<span style=\"vertical-align: middle; margin-left: 2px; font-size: 0.7em; color: #9575cd;\">INST</span></span> от 13.08.2013 N 3274 &quot; Об <span style=\"padding: 2px; border-radius: 4px; border: 1px solid #bbdefb; background: #e3f2fd\">утверждении<span style=\"vertical-align: middle; margin-left: 2px; font-size: 0.7em; color: #64b5f6;\">BIN</span></span> Порядка <span style=\"padding: 2px; border-radius: 4px; border: 1px solid #bbdefb; background: #e3f2fd\">разработки<span style=\"vertical-align: middle; margin-left: 2px; font-size: 0.7em; color: #64b5f6;\">BIN</span></span> , <span style=\"padding: 2px; border-radius: 4px; border: 1px solid #bbdefb; background: #e3f2fd\">реализации<span style=\"vertical-align: middle; margin-left: 2px; font-size: 0.7em; color: #64b5f6;\">BIN</span></span> и оценки <span style=\"padding: 2px; border-radius: 4px; border: 1px solid #ffcdd2; background: #ffebee\">эффективности<span style=\"vertical-align: middle; margin-left: 2px; font-size: 0.7em; color: #e57373;\">MET</span></span> муниципальных программ в городе Рязани и Методических указаний по <span style=\"padding: 2px; border-radius: 4px; border: 1px solid #bbdefb; background: #e3f2fd\">разработке<span style=\"vertical-align: middle; margin-left: 2px; font-size: 0.7em; color: #64b5f6;\">BIN</span></span> и <span style=\"padding: 2px; border-radius: 4px; border: 1px solid #bbdefb; background: #e3f2fd\">реализации<span style=\"vertical-align: middle; margin-left: 2px; font-size: 0.7em; color: #64b5f6;\">BIN</span></span> муниципальных программ в городе Рязани &quot; и от 24.08.2015 N 3892 &quot; Об <span style=\"padding: 2px; border-radius: 4px; border: 1px solid #bbdefb; background: #e3f2fd\">утверждении<span style=\"vertical-align: middle; margin-left: 2px; font-size: 0.7em; color: #64b5f6;\">BIN</span></span> Перечня муниципальных программ города Рязани на 2016 - 2020 годы &quot; . \n",
       "Перечень нормативных правовых актов , обеспечивающих <span style=\"padding: 2px; border-radius: 4px; border: 1px solid #bbdefb; background: #e3f2fd\">реализацию<span style=\"vertical-align: middle; margin-left: 2px; font-size: 0.7em; color: #64b5f6;\">BIN</span></span> Программы , представлен в таблице 1 приложения к Программе . \n",
       "III. \n",
       "Сроки и этапы <span style=\"padding: 2px; border-radius: 4px; border: 1px solid #bbdefb; background: #e3f2fd\">реализации<span style=\"vertical-align: middle; margin-left: 2px; font-size: 0.7em; color: #64b5f6;\">BIN</span></span> Программы</div>"
      ],
      "text/plain": [
       "<IPython.core.display.HTML object>"
      ]
     },
     "metadata": {},
     "output_type": "display_data"
    }
   ],
   "source": [
    "show_box_markup(data_train[0][0], data_train[0][1], palette=palette(BIN=BLUE, SOC=RED,ECO=GREEN,INST=PURPLE,CMP=BROWN, ACT=ORANGE,MET=RED,QUA=BLUE))"
   ]
  },
  {
   "cell_type": "markdown",
   "metadata": {},
   "source": [
    "#### Train, val, test"
   ]
  },
  {
   "cell_type": "code",
   "execution_count": 6,
   "metadata": {
    "ExecuteTime": {
     "end_time": "2020-05-05T19:15:11.493954Z",
     "start_time": "2020-05-05T19:13:38.648199Z"
    }
   },
   "outputs": [],
   "source": [
    "import random\n",
    "import pandas as pd\n",
    "random.seed(42)\n",
    "\n",
    "samples = make_sample(data_train)\n",
    "random.shuffle(samples)\n",
    "train = samples.copy()[:120]\n",
    "val = samples.copy()[120:]\n",
    "test = make_sample(data_test)"
   ]
  },
  {
   "cell_type": "markdown",
   "metadata": {},
   "source": [
    "#### Словарь символов"
   ]
  },
  {
   "cell_type": "code",
   "execution_count": 7,
   "metadata": {
    "ExecuteTime": {
     "end_time": "2020-05-05T19:15:11.507319Z",
     "start_time": "2020-05-05T19:15:11.494861Z"
    }
   },
   "outputs": [
    {
     "name": "stdout",
     "output_type": "stream",
     "text": [
      "['<pad>', '<unk>', '8', 'д', 'ы', '»', ';', 'Н', 'М', '\\uf0b7', '7', 'x', 't', 'у', 'O', 'M', 'б', 'S', 'i', '─', 'Д', 'Ö', 'ч', 'B', '‰', 'Я', '│', 'a', 'м', '(', ')', '\"', '*', 'z', 'H', 'A', 'ъ', ':', 'п', '3', 'Ч', 'f', 'с', 'Z', 'ш', '├', 'ф', 'Ь', 'ю', 'Й', 'Ш', 'W', '└', '1', 'k', 'җ', 'л', 'Ж', 'K', '“', 'И', 'І', '┌', 'r', '┬', 'Ы', 'g', '0', '┘', 'р', 'E', '9', '×', 'Ф', '…', 'я', '/', 'ә', 'N', 'х', 'Ъ', 'p', 'з', 'ь', '2', 'о', 'ё', 'Б', '+', '@', 'Э', '£', '∑', '┼', '■', '┤', 'Σ', '4', 'F', 'О', 'T', '=', 'Г', 'ц', 'n', 'j', 'h', 'b', 'l', 'Ю', '{', 'X', 'В', 'd', '>', '6', 's', 'c', 'P', 'е', 'o', 'А', 'й', 'Т', 'V', '•', 'v', '5', '№', 'm', 'щ', 'L', 'I', 'u', 'R', 'Л', 'и', 'Х', 'К', '}', 'в', 'Ә', 'У', 'т', 'e', '.', 'ж', 'y', 'к', 'э', '_', 'З', 'Ё', 'Ц', 'Р', 'Е', ']', '«', 'а', '-', 'П', 'w', 'Щ', 'D', ',', '[', '<', '!', 'г', '–', 'н', 'С', '”', '┐', 'U', '%', '—', 'G', 'C']\n"
     ]
    }
   ],
   "source": [
    "#char_set = [\"<pad>\", \"<unk>\"] + list({ch for sample in samples for token in sample.tokens for ch in token.text})\n",
    "char_set = ['<pad>', '<unk>', '8', 'д', 'ы', '»', ';', 'Н', 'М', '\\uf0b7', '7', 'x', 't', 'у', 'O', 'M', 'б', 'S', 'i', '─', 'Д', 'Ö', 'ч', 'B', '‰', 'Я', '│', 'a', 'м', '(', ')', '\"', '*', 'z', 'H', 'A', 'ъ', ':', 'п', '3', 'Ч', 'f', 'с', 'Z', 'ш', '├', 'ф', 'Ь', 'ю', 'Й', 'Ш', 'W', '└', '1', 'k', 'җ', 'л', 'Ж', 'K', '“', 'И', 'І', '┌', 'r', '┬', 'Ы', 'g', '0', '┘', 'р', 'E', '9', '×', 'Ф', '…', 'я', '/', 'ә', 'N', 'х', 'Ъ', 'p', 'з', 'ь', '2', 'о', 'ё', 'Б', '+', '@', 'Э', '£', '∑', '┼', '■', '┤', 'Σ', '4', 'F', 'О', 'T', '=', 'Г', 'ц', 'n', 'j', 'h', 'b', 'l', 'Ю', '{', 'X', 'В', 'd', '>', '6', 's', 'c', 'P', 'е', 'o', 'А', 'й', 'Т', 'V', '•', 'v', '5', '№', 'm', 'щ', 'L', 'I', 'u', 'R', 'Л', 'и', 'Х', 'К', '}', 'в', 'Ә', 'У', 'т', 'e', '.', 'ж', 'y', 'к', 'э', '_', 'З', 'Ё', 'Ц', 'Р', 'Е', ']', '«', 'а', '-', 'П', 'w', 'Щ', 'D', ',', '[', '<', '!', 'г', '–', 'н', 'С', '”', '┐', 'U', '%', '—', 'G', 'C']\n",
    "print(char_set)"
   ]
  },
  {
   "cell_type": "markdown",
   "metadata": {},
   "source": [
    "#### MLP"
   ]
  },
  {
   "cell_type": "code",
   "execution_count": null,
   "metadata": {},
   "outputs": [],
   "source": [
    "class SuperSimpleModel(nn.Module):\n",
    "    def __init__(self, char_set_size, char_embedding_dim=16, classes_count=17, char_max_seq_len=40):\n",
    "        super().__init__()\n",
    "        \n",
    "        self.embeddings_layer = nn.Embedding(char_set_size, char_embedding_dim)\n",
    "        self.out_layer = nn.Linear(char_max_seq_len * char_embedding_dim, classes_count)\n",
    "\n",
    "    def forward(self, inputs):\n",
    "        projections = self.embeddings_layer.forward(inputs)\n",
    "        projections = projections.reshape(projections.size(0), projections.size(1), -1)\n",
    "        output = self.out_layer.forward(projections)\n",
    "        return output"
   ]
  },
  {
   "cell_type": "code",
   "execution_count": 9,
   "metadata": {
    "ExecuteTime": {
     "end_time": "2020-05-04T20:22:26.333879Z",
     "start_time": "2020-05-04T20:21:17.218094Z"
    }
   },
   "outputs": [
    {
     "name": "stdout",
     "output_type": "stream",
     "text": [
      "Trainable params: 13761\n",
      "Epoch = 0, Avg Train Loss = 2.5638, Avg val loss = 1.6414, Time = 3.30s\n",
      "Epoch = 1, Avg Train Loss = 0.8046, Avg val loss = 1.3461, Time = 3.07s\n",
      "Epoch = 2, Avg Train Loss = 0.4632, Avg val loss = 1.3075, Time = 3.08s\n",
      "Epoch = 3, Avg Train Loss = 0.3205, Avg val loss = 1.1655, Time = 3.00s\n",
      "Epoch = 4, Avg Train Loss = 0.2396, Avg val loss = 1.1451, Time = 3.08s\n",
      "Epoch = 5, Avg Train Loss = 0.1923, Avg val loss = 1.0755, Time = 3.07s\n",
      "Epoch = 6, Avg Train Loss = 0.1603, Avg val loss = 0.9920, Time = 3.07s\n",
      "Epoch = 7, Avg Train Loss = 0.1365, Avg val loss = 1.2542, Time = 3.00s\n",
      "Epoch = 8, Avg Train Loss = 0.1221, Avg val loss = 1.0363, Time = 3.07s\n",
      "Epoch = 9, Avg Train Loss = 0.1076, Avg val loss = 1.0739, Time = 3.07s\n",
      "Epoch = 10, Avg Train Loss = 0.0963, Avg val loss = 1.0239, Time = 3.00s\n",
      "Epoch = 11, Avg Train Loss = 0.0876, Avg val loss = 1.0704, Time = 3.08s\n",
      "Epoch = 12, Avg Train Loss = 0.0817, Avg val loss = 1.0614, Time = 3.07s\n",
      "Epoch = 13, Avg Train Loss = 0.0753, Avg val loss = 0.9643, Time = 2.99s\n",
      "Epoch = 14, Avg Train Loss = 0.0685, Avg val loss = 1.0569, Time = 3.06s\n",
      "Epoch = 15, Avg Train Loss = 0.0651, Avg val loss = 1.0372, Time = 3.06s\n",
      "Epoch = 16, Avg Train Loss = 0.0606, Avg val loss = 0.9946, Time = 3.07s\n",
      "Epoch = 17, Avg Train Loss = 0.0566, Avg val loss = 1.0553, Time = 3.00s\n",
      "Epoch = 18, Avg Train Loss = 0.0533, Avg val loss = 1.2006, Time = 3.06s\n",
      "Epoch = 19, Avg Train Loss = 0.0509, Avg val loss = 1.0299, Time = 3.07s\n",
      "Epoch = 20, Avg Train Loss = 0.0477, Avg val loss = 1.0309, Time = 3.00s\n",
      "Epoch = 21, Avg Train Loss = 0.0455, Avg val loss = 0.9565, Time = 3.07s\n"
     ]
    }
   ],
   "source": [
    "model = SuperSimpleModel(len(char_set))\n",
    "train_gen_model(model, train, val, epochs_count=22, early_stopping=True, lr=0.01, patience = 5, save_path=\"model_mlp1.pt\")"
   ]
  },
  {
   "cell_type": "code",
   "execution_count": 13,
   "metadata": {
    "ExecuteTime": {
     "end_time": "2020-05-04T20:27:19.525892Z",
     "start_time": "2020-05-04T20:27:02.279284Z"
    }
   },
   "outputs": [
    {
     "data": {
      "text/plain": [
       "0.179334643693543"
      ]
     },
     "execution_count": 13,
     "metadata": {},
     "output_type": "execute_result"
    }
   ],
   "source": [
    "model = SuperSimpleModel(len(char_set))\n",
    "model.load_state_dict(torch.load(\"model_mlp1.pt\"))\n",
    "\n",
    "docs, true_labels, predicted_labels = predict(model, test)\n",
    "calc_ner_f1(docs, true_labels, predicted_labels)"
   ]
  },
  {
   "cell_type": "code",
   "execution_count": 20,
   "metadata": {
    "ExecuteTime": {
     "end_time": "2020-05-04T11:52:00.258752Z",
     "start_time": "2020-05-04T11:52:00.257252Z"
    }
   },
   "outputs": [],
   "source": [
    "show_box_markup(docs[100].text, get_spans(true_labels[100], docs[100].tokens),\n",
    "                palette=palette(BIN=BLUE,SOC=RED,ECO=GREEN,INST=PURPLE,CMP=BROWN,ACT=ORANGE,MET=RED,QUA=BLUE))"
   ]
  },
  {
   "cell_type": "markdown",
   "metadata": {
    "ExecuteTime": {
     "end_time": "2020-05-04T11:51:16.918418Z",
     "start_time": "2020-05-04T11:51:16.912078Z"
    }
   },
   "source": [
    "#### RNN"
   ]
  },
  {
   "cell_type": "code",
   "execution_count": 51,
   "metadata": {
    "ExecuteTime": {
     "end_time": "2020-05-05T22:44:01.109612Z",
     "start_time": "2020-05-05T22:44:01.103634Z"
    }
   },
   "outputs": [],
   "source": [
    "class LstmModel(nn.Module):\n",
    "    def __init__(self, char_set_size, char_embedding_dim=8, classes_count=17, lstm_embedding_dim=32, char_max_seq_len=40):\n",
    "        super().__init__()\n",
    "        \n",
    "        self.embeddings_layer = nn.Embedding(char_set_size, char_embedding_dim)\n",
    "        self.dropout = nn.Dropout(0.5)\n",
    "        self.lstm_layer = nn.LSTM(char_embedding_dim * char_max_seq_len, lstm_embedding_dim // 2, batch_first=True, bidirectional=True)\n",
    "        self.out_layer = nn.Linear(lstm_embedding_dim, classes_count)\n",
    "\n",
    "    \n",
    "    def forward(self, x_in, apply_softmax=False):\n",
    "        from torch.nn import functional as F \n",
    "        \"\"\" Прямой проход модели\n",
    "         Аргументы:\n",
    "         x_in (torch.Tensor): тензор входных данных\n",
    "         Значение x_in.shape должно быть (batch, input_dim)\n",
    "         apply_softmax (bool): флаг для многомерной логистической функции\n",
    "         активации во время обучения должен равняться 0\n",
    "         Возвращает:\n",
    "         итоговый тензор. Значение tensor.shape должно быть (batch, output_dim)\n",
    "         \"\"\"\n",
    "        projections = self.embeddings_layer(x_in)\n",
    "        projections = projections.reshape(projections.size(0), projections.size(1), -1)\n",
    "        y_out, _ = self.lstm_layer(projections)\n",
    "        batch_size, seq_size, feat_size = y_out.shape\n",
    "        y_out = y_out.contiguous().view(batch_size * seq_size, feat_size)\n",
    "        y_out = self.out_layer(F.tanh(F.dropout(y_out, p=0.5)))\n",
    "        if apply_softmax:\n",
    "            y_out = F.softmax(y_out, dim=1)\n",
    "        new_feat_size = y_out.shape[-1]\n",
    "        y_out = y_out.view(batch_size, seq_size, new_feat_size)\n",
    "        return y_out\n"
   ]
  },
  {
   "cell_type": "code",
   "execution_count": 54,
   "metadata": {
    "ExecuteTime": {
     "end_time": "2020-05-05T22:52:26.465980Z",
     "start_time": "2020-05-05T22:44:53.160698Z"
    },
    "scrolled": true
   },
   "outputs": [
    {
     "name": "stdout",
     "output_type": "stream",
     "text": [
      "Trainable params: 45257\n",
      "Epoch = 0, Avg Train Loss = 2.4263, Avg val loss = 2.0602, Time = 4.51s\n",
      "Epoch = 1, Avg Train Loss = 0.9861, Avg val loss = 1.8088, Time = 4.59s\n",
      "Epoch = 2, Avg Train Loss = 0.5705, Avg val loss = 1.6403, Time = 4.60s\n",
      "Epoch = 3, Avg Train Loss = 0.3911, Avg val loss = 1.4765, Time = 4.50s\n",
      "Epoch = 4, Avg Train Loss = 0.3035, Avg val loss = 1.3413, Time = 4.59s\n",
      "Epoch = 5, Avg Train Loss = 0.2492, Avg val loss = 1.3858, Time = 4.81s\n",
      "Epoch = 6, Avg Train Loss = 0.2127, Avg val loss = 1.4266, Time = 4.42s\n",
      "Epoch = 7, Avg Train Loss = 0.1840, Avg val loss = 1.4343, Time = 4.52s\n",
      "Epoch = 8, Avg Train Loss = 0.1628, Avg val loss = 1.4702, Time = 4.50s\n",
      "Epoch = 9, Avg Train Loss = 0.1456, Avg val loss = 1.3337, Time = 4.44s\n",
      "Epoch = 10, Avg Train Loss = 0.1305, Avg val loss = 1.4790, Time = 4.50s\n",
      "Epoch = 11, Avg Train Loss = 0.1182, Avg val loss = 1.3416, Time = 4.51s\n",
      "Epoch = 12, Avg Train Loss = 0.1076, Avg val loss = 1.3703, Time = 4.45s\n",
      "Epoch = 13, Avg Train Loss = 0.0993, Avg val loss = 1.3611, Time = 4.51s\n",
      "Epoch = 14, Avg Train Loss = 0.0920, Avg val loss = 1.2536, Time = 4.50s\n",
      "Epoch = 15, Avg Train Loss = 0.0843, Avg val loss = 1.3238, Time = 4.50s\n",
      "Epoch = 16, Avg Train Loss = 0.0784, Avg val loss = 1.2503, Time = 4.55s\n",
      "Epoch = 17, Avg Train Loss = 0.0735, Avg val loss = 1.2269, Time = 4.57s\n",
      "Epoch = 18, Avg Train Loss = 0.0681, Avg val loss = 1.2213, Time = 4.71s\n",
      "Epoch = 19, Avg Train Loss = 0.0647, Avg val loss = 1.2532, Time = 4.49s\n",
      "Epoch = 20, Avg Train Loss = 0.0615, Avg val loss = 1.3660, Time = 4.57s\n",
      "Epoch = 21, Avg Train Loss = 0.0578, Avg val loss = 1.1940, Time = 4.51s\n",
      "Epoch = 22, Avg Train Loss = 0.0548, Avg val loss = 1.1376, Time = 4.47s\n",
      "Epoch = 23, Avg Train Loss = 0.0529, Avg val loss = 1.2209, Time = 4.54s\n",
      "Epoch = 24, Avg Train Loss = 0.0499, Avg val loss = 1.1078, Time = 4.52s\n",
      "Epoch = 25, Avg Train Loss = 0.0473, Avg val loss = 1.1127, Time = 4.44s\n",
      "Epoch = 26, Avg Train Loss = 0.0449, Avg val loss = 1.0590, Time = 4.57s\n",
      "Epoch = 27, Avg Train Loss = 0.0432, Avg val loss = 1.0764, Time = 4.53s\n",
      "Epoch = 28, Avg Train Loss = 0.0414, Avg val loss = 1.2233, Time = 4.42s\n",
      "Epoch = 29, Avg Train Loss = 0.0395, Avg val loss = 1.1823, Time = 4.56s\n",
      "Epoch = 30, Avg Train Loss = 0.0380, Avg val loss = 1.1856, Time = 4.52s\n",
      "Epoch = 31, Avg Train Loss = 0.0360, Avg val loss = 1.1043, Time = 4.57s\n",
      "Epoch = 32, Avg Train Loss = 0.0352, Avg val loss = 1.1902, Time = 4.51s\n",
      "Epoch = 33, Avg Train Loss = 0.0336, Avg val loss = 1.1443, Time = 4.54s\n",
      "Epoch = 34, Avg Train Loss = 0.0329, Avg val loss = 1.1460, Time = 4.46s\n",
      "Epoch = 35, Avg Train Loss = 0.0317, Avg val loss = 1.1009, Time = 4.55s\n",
      "Epoch = 36, Avg Train Loss = 0.0305, Avg val loss = 1.1512, Time = 4.55s\n",
      "Epoch = 37, Avg Train Loss = 0.0298, Avg val loss = 1.0060, Time = 4.42s\n",
      "Epoch = 38, Avg Train Loss = 0.0286, Avg val loss = 0.9109, Time = 4.52s\n",
      "Epoch = 39, Avg Train Loss = 0.0279, Avg val loss = 0.9788, Time = 4.64s\n",
      "Epoch = 40, Avg Train Loss = 0.0272, Avg val loss = 0.9928, Time = 4.46s\n",
      "Epoch = 41, Avg Train Loss = 0.0263, Avg val loss = 1.0039, Time = 4.57s\n",
      "Epoch = 42, Avg Train Loss = 0.0253, Avg val loss = 1.1020, Time = 4.50s\n",
      "Epoch = 43, Avg Train Loss = 0.0244, Avg val loss = 0.9436, Time = 4.44s\n",
      "Epoch = 44, Avg Train Loss = 0.0240, Avg val loss = 1.0358, Time = 4.61s\n",
      "Epoch = 45, Avg Train Loss = 0.0231, Avg val loss = 1.0014, Time = 4.59s\n",
      "Epoch = 46, Avg Train Loss = 0.0225, Avg val loss = 1.0210, Time = 4.50s\n",
      "Epoch = 47, Avg Train Loss = 0.0221, Avg val loss = 0.9891, Time = 4.50s\n",
      "Epoch = 48, Avg Train Loss = 0.0215, Avg val loss = 0.9439, Time = 4.55s\n",
      "Epoch = 49, Avg Train Loss = 0.0209, Avg val loss = 1.0666, Time = 4.51s\n",
      "Epoch = 50, Avg Train Loss = 0.0204, Avg val loss = 0.9567, Time = 4.47s\n",
      "Epoch = 51, Avg Train Loss = 0.0200, Avg val loss = 1.0529, Time = 4.59s\n",
      "Epoch = 52, Avg Train Loss = 0.0192, Avg val loss = 1.0154, Time = 4.69s\n",
      "Epoch = 53, Avg Train Loss = 0.0191, Avg val loss = 1.0591, Time = 4.42s\n",
      "Epoch = 54, Avg Train Loss = 0.0185, Avg val loss = 0.8737, Time = 4.55s\n",
      "Epoch = 55, Avg Train Loss = 0.0180, Avg val loss = 0.9105, Time = 4.58s\n",
      "Epoch = 56, Avg Train Loss = 0.0176, Avg val loss = 1.0124, Time = 4.54s\n",
      "Epoch = 57, Avg Train Loss = 0.0173, Avg val loss = 0.8807, Time = 4.63s\n",
      "Epoch = 58, Avg Train Loss = 0.0169, Avg val loss = 0.9770, Time = 4.53s\n",
      "Epoch = 59, Avg Train Loss = 0.0166, Avg val loss = 0.9457, Time = 4.55s\n",
      "Epoch = 60, Avg Train Loss = 0.0161, Avg val loss = 0.9658, Time = 4.57s\n",
      "Epoch = 61, Avg Train Loss = 0.0159, Avg val loss = 0.9462, Time = 4.55s\n",
      "Epoch = 62, Avg Train Loss = 0.0157, Avg val loss = 0.9401, Time = 4.46s\n",
      "Epoch = 63, Avg Train Loss = 0.0155, Avg val loss = 0.8970, Time = 4.61s\n",
      "Epoch = 64, Avg Train Loss = 0.0151, Avg val loss = 0.9331, Time = 4.59s\n",
      "Epoch = 65, Avg Train Loss = 0.0148, Avg val loss = 1.0444, Time = 4.48s\n",
      "Epoch = 66, Avg Train Loss = 0.0143, Avg val loss = 1.0026, Time = 4.53s\n",
      "Epoch = 67, Avg Train Loss = 0.0142, Avg val loss = 0.9641, Time = 4.51s\n",
      "Epoch = 68, Avg Train Loss = 0.0140, Avg val loss = 0.9515, Time = 4.43s\n",
      "Epoch = 69, Avg Train Loss = 0.0137, Avg val loss = 0.9775, Time = 4.51s\n",
      "Epoch = 70, Avg Train Loss = 0.0136, Avg val loss = 0.9664, Time = 4.62s\n",
      "Epoch = 71, Avg Train Loss = 0.0133, Avg val loss = 0.8490, Time = 4.56s\n",
      "Epoch = 72, Avg Train Loss = 0.0131, Avg val loss = 0.9820, Time = 4.46s\n",
      "Epoch = 73, Avg Train Loss = 0.0128, Avg val loss = 1.0033, Time = 4.52s\n",
      "Epoch = 74, Avg Train Loss = 0.0126, Avg val loss = 0.9179, Time = 4.51s\n",
      "Epoch = 75, Avg Train Loss = 0.0124, Avg val loss = 0.9188, Time = 4.45s\n",
      "Epoch = 76, Avg Train Loss = 0.0122, Avg val loss = 0.8887, Time = 4.54s\n",
      "Epoch = 77, Avg Train Loss = 0.0121, Avg val loss = 0.9255, Time = 4.51s\n",
      "Epoch = 78, Avg Train Loss = 0.0118, Avg val loss = 0.9235, Time = 4.74s\n",
      "Epoch = 79, Avg Train Loss = 0.0116, Avg val loss = 0.8957, Time = 4.51s\n",
      "Epoch = 80, Avg Train Loss = 0.0115, Avg val loss = 0.9605, Time = 4.50s\n",
      "Epoch = 81, Avg Train Loss = 0.0114, Avg val loss = 1.0166, Time = 4.41s\n",
      "Epoch = 82, Avg Train Loss = 0.0112, Avg val loss = 0.9895, Time = 4.53s\n",
      "Epoch = 83, Avg Train Loss = 0.0110, Avg val loss = 0.9908, Time = 4.54s\n",
      "Epoch = 84, Avg Train Loss = 0.0108, Avg val loss = 0.9270, Time = 4.43s\n",
      "Epoch = 85, Avg Train Loss = 0.0107, Avg val loss = 0.8967, Time = 4.53s\n",
      "Epoch = 86, Avg Train Loss = 0.0106, Avg val loss = 0.9875, Time = 4.52s\n",
      "Epoch = 87, Avg Train Loss = 0.0104, Avg val loss = 0.8600, Time = 4.41s\n",
      "Epoch = 88, Avg Train Loss = 0.0103, Avg val loss = 0.8809, Time = 4.87s\n",
      "Epoch = 89, Avg Train Loss = 0.0102, Avg val loss = 1.0214, Time = 4.88s\n",
      "Epoch = 90, Avg Train Loss = 0.0100, Avg val loss = 0.9504, Time = 4.42s\n",
      "Epoch = 91, Avg Train Loss = 0.0099, Avg val loss = 0.9692, Time = 4.49s\n",
      "Epoch = 92, Avg Train Loss = 0.0097, Avg val loss = 0.9595, Time = 4.51s\n",
      "Epoch = 93, Avg Train Loss = 0.0096, Avg val loss = 0.9185, Time = 4.42s\n",
      "Epoch = 94, Avg Train Loss = 0.0094, Avg val loss = 0.9541, Time = 4.57s\n",
      "Epoch = 95, Avg Train Loss = 0.0094, Avg val loss = 1.0299, Time = 4.57s\n",
      "Epoch = 96, Avg Train Loss = 0.0093, Avg val loss = 0.9223, Time = 4.46s\n",
      "Epoch = 97, Avg Train Loss = 0.0091, Avg val loss = 0.9736, Time = 4.58s\n",
      "Epoch = 98, Avg Train Loss = 0.0091, Avg val loss = 0.8419, Time = 4.52s\n",
      "Epoch = 99, Avg Train Loss = 0.0089, Avg val loss = 1.0314, Time = 4.42s\n"
     ]
    }
   ],
   "source": [
    "model = LstmModel(len(char_set))\n",
    "train_gen_model(model, train, val, epochs_count=100, early_stopping=True, lr=0.01, batch_size=32, patience = 5, save_path=\"model_lstm.pt\")"
   ]
  },
  {
   "cell_type": "code",
   "execution_count": 55,
   "metadata": {
    "ExecuteTime": {
     "end_time": "2020-05-05T22:52:26.469970Z",
     "start_time": "2020-05-05T22:52:26.466978Z"
    }
   },
   "outputs": [],
   "source": [
    "char_set = ['<pad>', '<unk>', '8', 'д', 'ы', '»', ';', 'Н', 'М', '\\uf0b7', '7', 'x', 't', 'у', 'O', 'M', 'б', 'S', 'i', '─', 'Д', 'Ö', 'ч', 'B', '‰', 'Я', '│', 'a', 'м', '(', ')', '\"', '*', 'z', 'H', 'A', 'ъ', ':', 'п', '3', 'Ч', 'f', 'с', 'Z', 'ш', '├', 'ф', 'Ь', 'ю', 'Й', 'Ш', 'W', '└', '1', 'k', 'җ', 'л', 'Ж', 'K', '“', 'И', 'І', '┌', 'r', '┬', 'Ы', 'g', '0', '┘', 'р', 'E', '9', '×', 'Ф', '…', 'я', '/', 'ә', 'N', 'х', 'Ъ', 'p', 'з', 'ь', '2', 'о', 'ё', 'Б', '+', '@', 'Э', '£', '∑', '┼', '■', '┤', 'Σ', '4', 'F', 'О', 'T', '=', 'Г', 'ц', 'n', 'j', 'h', 'b', 'l', 'Ю', '{', 'X', 'В', 'd', '>', '6', 's', 'c', 'P', 'е', 'o', 'А', 'й', 'Т', 'V', '•', 'v', '5', '№', 'm', 'щ', 'L', 'I', 'u', 'R', 'Л', 'и', 'Х', 'К', '}', 'в', 'Ә', 'У', 'т', 'e', '.', 'ж', 'y', 'к', 'э', '_', 'З', 'Ё', 'Ц', 'Р', 'Е', ']', '«', 'а', '-', 'П', 'w', 'Щ', 'D', ',', '[', '<', '!', 'г', '–', 'н', 'С', '”', '┐', 'U', '%', '—', 'G', 'C']\n",
    "model_lstm = LstmModel(len(char_set))\n",
    "model_lstm.load_state_dict(torch.load(\"model_lstm.pt\"))\n",
    "\n",
    "docs, true_labels, predicted_labels = predict(model_lstm, test)\n",
    "calc_ner_f1(docs, predicted_labels)"
   ]
  },
  {
   "cell_type": "markdown",
   "metadata": {},
   "source": [
    "#### CharFFLstm"
   ]
  },
  {
   "cell_type": "code",
   "execution_count": 46,
   "metadata": {
    "ExecuteTime": {
     "end_time": "2020-05-05T22:42:43.486832Z",
     "start_time": "2020-05-05T22:42:43.479851Z"
    }
   },
   "outputs": [],
   "source": [
    "class CharFFLstmModel(nn.Module):\n",
    "    def __init__(self, char_set_size, char_embedding_dim=4, classes_count=17, word_embedding_dim=64, lstm_embedding_dim=32, char_max_seq_len=40):\n",
    "        super().__init__()\n",
    "        \n",
    "        self.embeddings_layer = nn.Embedding(char_set_size, char_embedding_dim)\n",
    "        self.dropout = nn.Dropout(0.3)\n",
    "        self.linear = nn.Linear(char_embedding_dim * char_max_seq_len, word_embedding_dim)\n",
    "        self.relu = nn.ReLU()\n",
    "        self.lstm_layer = nn.LSTM(word_embedding_dim, lstm_embedding_dim // 2, batch_first=True, bidirectional=True)\n",
    "        self.out_layer = nn.Linear(lstm_embedding_dim, classes_count)\n",
    "\n",
    "    def forward(self, inputs):\n",
    "        projections = self.embeddings_layer.forward(inputs)\n",
    "        projections = projections.reshape(projections.size(0), projections.size(1), -1)\n",
    "        projections = self.relu(self.linear(projections))\n",
    "        projections = self.dropout(projections)\n",
    "        output, _= self.lstm_layer(projections)\n",
    "        output = self.dropout(output)\n",
    "        output = self.out_layer.forward(output)\n",
    "        return output"
   ]
  },
  {
   "cell_type": "code",
   "execution_count": null,
   "metadata": {
    "ExecuteTime": {
     "start_time": "2020-05-05T10:18:06.370Z"
    }
   },
   "outputs": [
    {
     "name": "stdout",
     "output_type": "stream",
     "text": [
      "Trainable params: 22077\n",
      "Epoch = 0, Avg Train Loss = 2.2922, Avg val loss = 1.5811, Time = 5.13s\n",
      "Epoch = 1, Avg Train Loss = 0.7752, Avg val loss = 1.4932, Time = 4.69s\n",
      "Epoch = 2, Avg Train Loss = 0.4822, Avg val loss = 1.4512, Time = 4.54s\n",
      "Epoch = 3, Avg Train Loss = 0.3557, Avg val loss = 1.3404, Time = 4.47s\n",
      "Epoch = 4, Avg Train Loss = 0.2728, Avg val loss = 1.3193, Time = 4.58s\n",
      "Epoch = 5, Avg Train Loss = 0.2167, Avg val loss = 1.2514, Time = 4.57s\n",
      "Epoch = 6, Avg Train Loss = 0.1798, Avg val loss = 1.2741, Time = 4.58s\n",
      "Epoch = 7, Avg Train Loss = 0.1561, Avg val loss = 1.2980, Time = 4.52s\n",
      "Epoch = 8, Avg Train Loss = 0.1380, Avg val loss = 1.3308, Time = 4.60s\n",
      "Epoch = 9, Avg Train Loss = 0.1225, Avg val loss = 1.2711, Time = 4.63s\n",
      "Epoch = 10, Avg Train Loss = 0.1114, Avg val loss = 1.1864, Time = 4.54s\n",
      "Epoch = 11, Avg Train Loss = 0.1005, Avg val loss = 1.2245, Time = 4.64s\n",
      "Epoch = 12, Avg Train Loss = 0.0919, Avg val loss = 1.3031, Time = 4.65s\n",
      "Epoch = 13, Avg Train Loss = 0.0846, Avg val loss = 1.2364, Time = 4.54s\n",
      "Epoch = 14, Avg Train Loss = 0.0793, Avg val loss = 1.2661, Time = 4.59s\n",
      "Epoch = 15, Avg Train Loss = 0.0731, Avg val loss = 1.2516, Time = 4.62s\n",
      "Epoch = 16, Avg Train Loss = 0.0677, Avg val loss = 1.1468, Time = 4.44s\n",
      "Epoch = 17, Avg Train Loss = 0.0643, Avg val loss = 1.2667, Time = 4.58s\n",
      "Epoch = 18, Avg Train Loss = 0.0599, Avg val loss = 1.2318, Time = 4.57s\n",
      "Epoch = 19, Avg Train Loss = 0.0575, Avg val loss = 1.2175, Time = 4.51s\n",
      "Epoch = 20, Avg Train Loss = 0.0541, Avg val loss = 1.1036, Time = 4.44s\n",
      "Epoch = 21, Avg Train Loss = 0.0512, Avg val loss = 1.1527, Time = 4.62s\n",
      "Epoch = 22, Avg Train Loss = 0.0486, Avg val loss = 1.1933, Time = 4.61s\n",
      "Epoch = 23, Avg Train Loss = 0.0461, Avg val loss = 1.1601, Time = 4.52s\n",
      "Epoch = 24, Avg Train Loss = 0.0445, Avg val loss = 1.0722, Time = 4.66s\n",
      "Epoch = 25, Avg Train Loss = 0.0429, Avg val loss = 1.2446, Time = 4.58s\n",
      "Epoch = 26, Avg Train Loss = 0.0404, Avg val loss = 1.0912, Time = 4.51s\n",
      "Epoch = 27, Avg Train Loss = 0.0393, Avg val loss = 1.2006, Time = 4.62s\n",
      "Epoch = 28, Avg Train Loss = 0.0374, Avg val loss = 1.1766, Time = 4.56s\n",
      "Epoch = 29, Avg Train Loss = 0.0358, Avg val loss = 1.0765, Time = 4.59s\n",
      "Epoch = 30, Avg Train Loss = 0.0344, Avg val loss = 1.0813, Time = 4.48s\n",
      "Epoch = 31, Avg Train Loss = 0.0331, Avg val loss = 1.1188, Time = 4.54s\n",
      "Epoch = 32, Avg Train Loss = 0.0320, Avg val loss = 1.1076, Time = 4.56s\n",
      "Epoch = 33, Avg Train Loss = 0.0306, Avg val loss = 1.1659, Time = 4.45s\n",
      "Epoch = 34, Avg Train Loss = 0.0299, Avg val loss = 1.0534, Time = 4.56s\n",
      "Epoch = 35, Avg Train Loss = 0.0288, Avg val loss = 1.1219, Time = 4.60s\n",
      "Epoch = 36, Avg Train Loss = 0.0279, Avg val loss = 1.1091, Time = 4.55s\n",
      "Epoch = 37, Avg Train Loss = 0.0268, Avg val loss = 1.0864, Time = 4.62s\n",
      "Epoch = 38, Avg Train Loss = 0.0262, Avg val loss = 0.9744, Time = 4.51s\n",
      "Epoch = 39, Avg Train Loss = 0.0253, Avg val loss = 0.9834, Time = 4.45s\n",
      "Epoch = 40, Avg Train Loss = 0.0248, Avg val loss = 1.0831, Time = 4.54s\n",
      "Epoch = 41, Avg Train Loss = 0.0240, Avg val loss = 1.0528, Time = 4.60s\n",
      "Epoch = 42, Avg Train Loss = 0.0230, Avg val loss = 0.9982, Time = 4.58s\n",
      "Epoch = 43, Avg Train Loss = 0.0225, Avg val loss = 1.0841, Time = 4.46s\n",
      "Epoch = 44, Avg Train Loss = 0.0218, Avg val loss = 0.9227, Time = 4.53s\n",
      "Epoch = 45, Avg Train Loss = 0.0213, Avg val loss = 1.0121, Time = 4.57s\n",
      "Epoch = 46, Avg Train Loss = 0.0209, Avg val loss = 1.0838, Time = 4.56s\n",
      "Epoch = 47, Avg Train Loss = 0.0201, Avg val loss = 0.9916, Time = 4.62s\n",
      "Epoch = 48, Avg Train Loss = 0.0195, Avg val loss = 1.0812, Time = 4.56s\n",
      "Epoch = 49, Avg Train Loss = 0.0192, Avg val loss = 1.0122, Time = 4.56s\n",
      "Epoch = 50, Avg Train Loss = 0.0188, Avg val loss = 1.0357, Time = 4.56s\n",
      "Epoch = 51, Avg Train Loss = 0.0179, Avg val loss = 0.9406, Time = 4.61s\n",
      "Epoch = 52, Avg Train Loss = 0.0175, Avg val loss = 1.0106, Time = 4.48s\n",
      "Epoch = 53, Avg Train Loss = 0.0172, Avg val loss = 0.9823, Time = 4.57s\n",
      "Epoch = 54, Avg Train Loss = 0.0169, Avg val loss = 0.9740, Time = 4.62s\n",
      "Epoch = 55, Avg Train Loss = 0.0165, Avg val loss = 0.9294, Time = 4.61s\n",
      "Epoch = 56, Avg Train Loss = 0.0162, Avg val loss = 0.9374, Time = 4.46s\n",
      "Epoch = 57, Avg Train Loss = 0.0159, Avg val loss = 0.9614, Time = 4.52s\n",
      "Epoch = 58, Avg Train Loss = 0.0155, Avg val loss = 0.9696, Time = 4.55s\n",
      "Epoch = 59, Avg Train Loss = 0.0150, Avg val loss = 0.9300, Time = 4.44s\n",
      "Epoch = 60, Avg Train Loss = 0.0148, Avg val loss = 0.8927, Time = 4.53s\n",
      "Epoch = 61, Avg Train Loss = 0.0146, Avg val loss = 0.8410, Time = 4.57s\n",
      "Epoch = 62, Avg Train Loss = 0.0143, Avg val loss = 0.9002, Time = 4.53s\n",
      "Epoch = 63, Avg Train Loss = 0.0139, Avg val loss = 0.9128, Time = 4.55s\n",
      "Epoch = 64, Avg Train Loss = 0.0133, Avg val loss = 0.8839, Time = 4.67s\n",
      "Epoch = 65, Avg Train Loss = 0.0133, Avg val loss = 0.9010, Time = 4.45s\n",
      "Epoch = 66, Avg Train Loss = 0.0130, Avg val loss = 0.9156, Time = 4.57s\n",
      "Epoch = 67, Avg Train Loss = 0.0127, Avg val loss = 0.8592, Time = 4.65s\n",
      "Epoch = 68, Avg Train Loss = 0.0123, Avg val loss = 0.8912, Time = 4.64s\n",
      "Epoch = 69, Avg Train Loss = 0.0123, Avg val loss = 0.9642, Time = 4.57s\n",
      "Epoch = 70, Avg Train Loss = 0.0120, Avg val loss = 0.8492, Time = 4.67s\n",
      "Epoch = 71, Avg Train Loss = 0.0118, Avg val loss = 0.7669, Time = 4.53s\n",
      "Epoch = 72, Avg Train Loss = 0.0114, Avg val loss = 0.8127, Time = 4.57s\n",
      "Epoch = 73, Avg Train Loss = 0.0113, Avg val loss = 0.8021, Time = 4.54s\n",
      "Epoch = 74, Avg Train Loss = 0.0114, Avg val loss = 0.9649, Time = 4.57s\n",
      "Epoch = 75, Avg Train Loss = 0.0112, Avg val loss = 0.8832, Time = 4.55s\n",
      "Epoch = 76, Avg Train Loss = 0.0110, Avg val loss = 0.7464, Time = 4.73s\n",
      "Epoch = 77, Avg Train Loss = 0.0107, Avg val loss = 0.8715, Time = 4.64s\n",
      "Epoch = 78, Avg Train Loss = 0.0105, Avg val loss = 0.8251, Time = 4.54s\n",
      "Epoch = 79, Avg Train Loss = 0.0104, Avg val loss = 0.8462, Time = 4.56s\n",
      "Epoch = 80, Avg Train Loss = 0.0103, Avg val loss = 0.7626, Time = 4.62s\n",
      "Epoch = 81, Avg Train Loss = 0.0100, Avg val loss = 0.8117, Time = 4.71s\n",
      "Epoch = 82, Avg Train Loss = 0.0099, Avg val loss = 0.8415, Time = 4.56s\n",
      "Epoch = 83, Avg Train Loss = 0.0096, Avg val loss = 0.8347, Time = 4.67s\n",
      "Epoch = 84, Avg Train Loss = 0.0096, Avg val loss = 0.8233, Time = 4.56s\n",
      "Epoch = 85, Avg Train Loss = 0.0095, Avg val loss = 0.8324, Time = 4.52s\n",
      "Epoch = 86, Avg Train Loss = 0.0093, Avg val loss = 0.8750, Time = 4.57s\n",
      "Epoch = 87, Avg Train Loss = 0.0091, Avg val loss = 0.8437, Time = 4.57s\n",
      "Epoch = 88, Avg Train Loss = 0.0090, Avg val loss = 0.8372, Time = 4.54s\n",
      "Epoch = 89, Avg Train Loss = 0.0089, Avg val loss = 0.8779, Time = 4.65s\n",
      "Epoch = 90, Avg Train Loss = 0.0088, Avg val loss = 0.8683, Time = 4.65s\n",
      "Epoch = 91, Avg Train Loss = 0.0086, Avg val loss = 0.8551, Time = 4.62s\n",
      "Epoch = 92, Avg Train Loss = 0.0085, Avg val loss = 0.8464, Time = 4.52s\n",
      "Epoch = 93, Avg Train Loss = 0.0084, Avg val loss = 0.7668, Time = 4.60s\n",
      "Epoch = 94, Avg Train Loss = 0.0083, Avg val loss = 0.8557, Time = 4.60s\n",
      "Epoch = 95, Avg Train Loss = 0.0082, Avg val loss = 0.7492, Time = 4.47s\n",
      "Epoch = 96, Avg Train Loss = 0.0081, Avg val loss = 0.8143, Time = 4.51s\n",
      "Epoch = 97, Avg Train Loss = 0.0080, Avg val loss = 0.8225, Time = 4.56s\n",
      "Epoch = 98, Avg Train Loss = 0.0079, Avg val loss = 0.8404, Time = 4.50s\n",
      "Epoch = 99, Avg Train Loss = 0.0078, Avg val loss = 0.8443, Time = 4.57s\n",
      "Epoch = 100, Avg Train Loss = 0.0077, Avg val loss = 0.6882, Time = 4.58s\n",
      "Epoch = 101, Avg Train Loss = 0.0077, Avg val loss = 0.7789, Time = 4.62s\n",
      "Epoch = 102, Avg Train Loss = 0.0077, Avg val loss = 0.7760, Time = 4.70s\n",
      "Epoch = 103, Avg Train Loss = 0.0075, Avg val loss = 0.9082, Time = 4.67s\n",
      "Epoch = 104, Avg Train Loss = 0.0075, Avg val loss = 0.7063, Time = 4.59s\n",
      "Epoch = 105, Avg Train Loss = 0.0073, Avg val loss = 0.7479, Time = 4.62s\n",
      "Epoch = 106, Avg Train Loss = 0.0072, Avg val loss = 0.7679, Time = 4.61s\n",
      "Epoch = 107, Avg Train Loss = 0.0071, Avg val loss = 0.8670, Time = 4.61s\n",
      "Epoch = 108, Avg Train Loss = 0.0071, Avg val loss = 0.7505, Time = 4.45s\n"
     ]
    }
   ],
   "source": [
    "model = CharFFLstmModel(len(char_set))\n",
    "train_gen_model(model, train, val, epochs_count=500, early_stopping=True, lr=0.01, save_path=\"model_charff_v1.pt\", patience = 5)"
   ]
  },
  {
   "cell_type": "code",
   "execution_count": 18,
   "metadata": {
    "ExecuteTime": {
     "end_time": "2020-05-05T19:21:44.162538Z",
     "start_time": "2020-05-05T19:21:29.680073Z"
    }
   },
   "outputs": [
    {
     "data": {
      "text/plain": [
       "0.24890888063648148"
      ]
     },
     "execution_count": 18,
     "metadata": {},
     "output_type": "execute_result"
    }
   ],
   "source": [
    "char_set = ['<pad>', '<unk>', '8', 'д', 'ы', '»', ';', 'Н', 'М', '\\uf0b7', '7', 'x', 't', 'у', 'O', 'M', 'б', 'S', 'i', '─', 'Д', 'Ö', 'ч', 'B', '‰', 'Я', '│', 'a', 'м', '(', ')', '\"', '*', 'z', 'H', 'A', 'ъ', ':', 'п', '3', 'Ч', 'f', 'с', 'Z', 'ш', '├', 'ф', 'Ь', 'ю', 'Й', 'Ш', 'W', '└', '1', 'k', 'җ', 'л', 'Ж', 'K', '“', 'И', 'І', '┌', 'r', '┬', 'Ы', 'g', '0', '┘', 'р', 'E', '9', '×', 'Ф', '…', 'я', '/', 'ә', 'N', 'х', 'Ъ', 'p', 'з', 'ь', '2', 'о', 'ё', 'Б', '+', '@', 'Э', '£', '∑', '┼', '■', '┤', 'Σ', '4', 'F', 'О', 'T', '=', 'Г', 'ц', 'n', 'j', 'h', 'b', 'l', 'Ю', '{', 'X', 'В', 'd', '>', '6', 's', 'c', 'P', 'е', 'o', 'А', 'й', 'Т', 'V', '•', 'v', '5', '№', 'm', 'щ', 'L', 'I', 'u', 'R', 'Л', 'и', 'Х', 'К', '}', 'в', 'Ә', 'У', 'т', 'e', '.', 'ж', 'y', 'к', 'э', '_', 'З', 'Ё', 'Ц', 'Р', 'Е', ']', '«', 'а', '-', 'П', 'w', 'Щ', 'D', ',', '[', '<', '!', 'г', '–', 'н', 'С', '”', '┐', 'U', '%', '—', 'G', 'C']\n",
    "model_ff = CharFFLstmModel(len(char_set))\n",
    "model_ff.load_state_dict(torch.load(\"model_charff_v1.pt\"))\n",
    "\n",
    "docs, true_labels, predicted_labels = predict(model_ff, test)\n",
    "calc_ner_f1(docs, predicted_labels)"
   ]
  },
  {
   "cell_type": "markdown",
   "metadata": {},
   "source": [
    "#### Лучший результат  по CharFF+BiLSTM: F1 = 0.24890888063648148"
   ]
  },
  {
   "cell_type": "markdown",
   "metadata": {},
   "source": [
    "#### CharCNNLstm"
   ]
  },
  {
   "cell_type": "code",
   "execution_count": 21,
   "metadata": {
    "ExecuteTime": {
     "end_time": "2020-05-05T19:22:53.370108Z",
     "start_time": "2020-05-05T19:22:53.361134Z"
    }
   },
   "outputs": [],
   "source": [
    "import torch\n",
    "class CharCNNLstmModel(nn.Module):\n",
    "    def __init__(self, char_set_size, char_embedding_dim=4, classes_count=17, word_embedding_dim=64, lstm_embedding_dim=32, max_char_seq_len=40, filters=((2, 16), (3, 24))):\n",
    "        super().__init__()\n",
    "        \n",
    "        self.embeddings_layer = nn.Embedding(char_set_size, char_embedding_dim)\n",
    "        self.filters = []\n",
    "        all_filters_count = 0\n",
    "        for kernel_size, filters_count in filters:\n",
    "            all_filters_count += filters_count\n",
    "            self.filters.append(nn.Conv2d(1, filters_count, (kernel_size, char_embedding_dim), padding=(1, 0))) \n",
    "        self.filters = nn.ModuleList(self.filters)\n",
    "        self.dropout = nn.Dropout(0.3)\n",
    "        self.linear = nn.Linear(all_filters_count, word_embedding_dim)\n",
    "        self.relu = nn.ReLU()\n",
    "        self.lstm_layer = nn.LSTM(word_embedding_dim, lstm_embedding_dim // 2, batch_first=True, bidirectional=True)\n",
    "        self.out_layer = nn.Linear(lstm_embedding_dim, classes_count)\n",
    "\n",
    "    def forward(self, inputs):\n",
    "        projections = self.embeddings_layer.forward(inputs)\n",
    "        batch_size = inputs.shape[0]\n",
    "        max_seq_len = inputs.shape[1]\n",
    "        max_char_seq_len = inputs.shape[2]\n",
    "        char_embedding_dim = projections.shape[3]\n",
    "        projections = projections.unsqueeze(2).view(-1, 1, max_char_seq_len, char_embedding_dim)\n",
    "        results = []\n",
    "        for f in self.filters:\n",
    "            convolved = self.dropout(self.relu(f(projections))).squeeze(3)\n",
    "            pooling = torch.max(convolved, 2)[0]\n",
    "            results.append(pooling)\n",
    "        conv = torch.cat(results, 1)\n",
    "        conv = self.relu(self.linear(conv))\n",
    "        conv = self.dropout(conv)\n",
    "        word_embedding_dim = conv.shape[1]\n",
    "        output, _= self.lstm_layer(conv.view(-1, max_seq_len, word_embedding_dim))\n",
    "        output = self.dropout(output)\n",
    "        output = self.out_layer.forward(output)\n",
    "        return output"
   ]
  },
  {
   "cell_type": "code",
   "execution_count": 26,
   "metadata": {
    "ExecuteTime": {
     "end_time": "2020-05-05T19:50:08.522162Z",
     "start_time": "2020-05-05T19:38:26.526613Z"
    },
    "scrolled": true
   },
   "outputs": [
    {
     "name": "stdout",
     "output_type": "stream",
     "text": [
      "Trainable params: 14853\n",
      "Epoch = 0, Avg Train Loss = 2.4991, Avg val loss = 1.7924, Time = 4.86s\n",
      "Epoch = 1, Avg Train Loss = 0.8161, Avg val loss = 1.4324, Time = 4.64s\n",
      "Epoch = 2, Avg Train Loss = 0.4855, Avg val loss = 1.2781, Time = 4.73s\n",
      "Epoch = 3, Avg Train Loss = 0.3500, Avg val loss = 1.2548, Time = 4.75s\n",
      "Epoch = 4, Avg Train Loss = 0.2664, Avg val loss = 1.3057, Time = 4.73s\n",
      "Epoch = 5, Avg Train Loss = 0.2140, Avg val loss = 1.2242, Time = 4.74s\n",
      "Epoch = 6, Avg Train Loss = 0.1830, Avg val loss = 1.1743, Time = 4.73s\n",
      "Epoch = 7, Avg Train Loss = 0.1597, Avg val loss = 0.9614, Time = 4.74s\n",
      "Epoch = 8, Avg Train Loss = 0.1402, Avg val loss = 1.2156, Time = 4.70s\n",
      "Epoch = 9, Avg Train Loss = 0.1252, Avg val loss = 1.0543, Time = 4.74s\n",
      "Epoch = 10, Avg Train Loss = 0.1138, Avg val loss = 1.0761, Time = 4.71s\n",
      "Epoch = 11, Avg Train Loss = 0.1035, Avg val loss = 1.1771, Time = 4.71s\n",
      "Epoch = 12, Avg Train Loss = 0.0953, Avg val loss = 1.2367, Time = 4.74s\n",
      "Epoch = 13, Avg Train Loss = 0.0885, Avg val loss = 1.2085, Time = 4.81s\n",
      "Epoch = 14, Avg Train Loss = 0.0827, Avg val loss = 1.0881, Time = 4.66s\n",
      "Epoch = 15, Avg Train Loss = 0.0772, Avg val loss = 1.1040, Time = 4.77s\n",
      "Epoch = 16, Avg Train Loss = 0.0723, Avg val loss = 1.0592, Time = 4.80s\n",
      "Epoch = 17, Avg Train Loss = 0.0679, Avg val loss = 1.0869, Time = 4.67s\n",
      "Epoch = 18, Avg Train Loss = 0.0635, Avg val loss = 1.1321, Time = 4.70s\n",
      "Epoch = 19, Avg Train Loss = 0.0610, Avg val loss = 1.2186, Time = 4.88s\n",
      "Epoch = 20, Avg Train Loss = 0.0579, Avg val loss = 1.1032, Time = 4.68s\n",
      "Epoch = 21, Avg Train Loss = 0.0544, Avg val loss = 1.1666, Time = 4.85s\n",
      "Epoch = 22, Avg Train Loss = 0.0523, Avg val loss = 1.0897, Time = 4.78s\n",
      "Epoch = 23, Avg Train Loss = 0.0501, Avg val loss = 1.1423, Time = 4.70s\n",
      "Epoch = 24, Avg Train Loss = 0.0473, Avg val loss = 1.1077, Time = 4.90s\n",
      "Epoch = 25, Avg Train Loss = 0.0456, Avg val loss = 1.0092, Time = 4.77s\n",
      "Epoch = 26, Avg Train Loss = 0.0439, Avg val loss = 0.9759, Time = 4.69s\n",
      "Epoch = 27, Avg Train Loss = 0.0422, Avg val loss = 1.0962, Time = 4.73s\n",
      "Epoch = 28, Avg Train Loss = 0.0405, Avg val loss = 1.0844, Time = 4.79s\n",
      "Epoch = 29, Avg Train Loss = 0.0390, Avg val loss = 1.2121, Time = 4.70s\n",
      "Epoch = 30, Avg Train Loss = 0.0377, Avg val loss = 1.1028, Time = 4.70s\n",
      "Epoch = 31, Avg Train Loss = 0.0361, Avg val loss = 1.1549, Time = 4.78s\n",
      "Epoch = 32, Avg Train Loss = 0.0354, Avg val loss = 1.0013, Time = 4.64s\n",
      "Epoch = 33, Avg Train Loss = 0.0343, Avg val loss = 1.1847, Time = 4.79s\n",
      "Epoch = 34, Avg Train Loss = 0.0330, Avg val loss = 1.0768, Time = 4.78s\n",
      "Epoch = 35, Avg Train Loss = 0.0322, Avg val loss = 1.0061, Time = 4.70s\n",
      "Epoch = 36, Avg Train Loss = 0.0312, Avg val loss = 0.9616, Time = 4.78s\n",
      "Epoch = 37, Avg Train Loss = 0.0301, Avg val loss = 1.0777, Time = 4.80s\n",
      "Epoch = 38, Avg Train Loss = 0.0294, Avg val loss = 1.0989, Time = 4.63s\n",
      "Epoch = 39, Avg Train Loss = 0.0285, Avg val loss = 1.1111, Time = 4.70s\n",
      "Epoch = 40, Avg Train Loss = 0.0280, Avg val loss = 1.0417, Time = 4.82s\n",
      "Epoch = 41, Avg Train Loss = 0.0273, Avg val loss = 1.0324, Time = 4.66s\n",
      "Epoch = 42, Avg Train Loss = 0.0267, Avg val loss = 1.1472, Time = 4.72s\n",
      "Epoch = 43, Avg Train Loss = 0.0263, Avg val loss = 1.1635, Time = 4.68s\n",
      "Epoch = 44, Avg Train Loss = 0.0255, Avg val loss = 0.9523, Time = 4.60s\n",
      "Epoch = 45, Avg Train Loss = 0.0250, Avg val loss = 0.9125, Time = 4.78s\n",
      "Epoch = 46, Avg Train Loss = 0.0244, Avg val loss = 1.0765, Time = 4.69s\n",
      "Epoch = 47, Avg Train Loss = 0.0239, Avg val loss = 1.0496, Time = 4.66s\n",
      "Epoch = 48, Avg Train Loss = 0.0232, Avg val loss = 1.0965, Time = 4.76s\n",
      "Epoch = 49, Avg Train Loss = 0.0228, Avg val loss = 0.9940, Time = 4.75s\n",
      "Epoch = 50, Avg Train Loss = 0.0225, Avg val loss = 1.0831, Time = 4.80s\n",
      "Epoch = 51, Avg Train Loss = 0.0219, Avg val loss = 0.8901, Time = 4.63s\n",
      "Epoch = 52, Avg Train Loss = 0.0215, Avg val loss = 1.1100, Time = 4.68s\n",
      "Epoch = 53, Avg Train Loss = 0.0209, Avg val loss = 1.1594, Time = 4.70s\n",
      "Epoch = 54, Avg Train Loss = 0.0205, Avg val loss = 1.1227, Time = 4.66s\n",
      "Epoch = 55, Avg Train Loss = 0.0201, Avg val loss = 1.1493, Time = 4.73s\n",
      "Epoch = 56, Avg Train Loss = 0.0198, Avg val loss = 1.0022, Time = 4.68s\n",
      "Epoch = 57, Avg Train Loss = 0.0193, Avg val loss = 1.0323, Time = 4.61s\n",
      "Epoch = 58, Avg Train Loss = 0.0191, Avg val loss = 1.1193, Time = 4.72s\n",
      "Epoch = 59, Avg Train Loss = 0.0187, Avg val loss = 1.0758, Time = 4.82s\n",
      "Epoch = 60, Avg Train Loss = 0.0184, Avg val loss = 1.1025, Time = 4.68s\n",
      "Epoch = 61, Avg Train Loss = 0.0184, Avg val loss = 1.0898, Time = 4.75s\n",
      "Epoch = 62, Avg Train Loss = 0.0177, Avg val loss = 1.0935, Time = 4.75s\n",
      "Epoch = 63, Avg Train Loss = 0.0174, Avg val loss = 1.0967, Time = 4.71s\n",
      "Epoch = 64, Avg Train Loss = 0.0171, Avg val loss = 1.0311, Time = 4.75s\n",
      "Epoch = 65, Avg Train Loss = 0.0170, Avg val loss = 1.0245, Time = 4.75s\n",
      "Epoch = 66, Avg Train Loss = 0.0166, Avg val loss = 1.0797, Time = 4.77s\n",
      "Epoch = 67, Avg Train Loss = 0.0162, Avg val loss = 1.0456, Time = 4.77s\n",
      "Epoch = 68, Avg Train Loss = 0.0161, Avg val loss = 1.0408, Time = 4.73s\n",
      "Epoch = 69, Avg Train Loss = 0.0159, Avg val loss = 1.0277, Time = 4.64s\n",
      "Epoch = 70, Avg Train Loss = 0.0156, Avg val loss = 1.0647, Time = 4.79s\n",
      "Epoch = 71, Avg Train Loss = 0.0154, Avg val loss = 0.9525, Time = 4.78s\n",
      "Epoch = 72, Avg Train Loss = 0.0151, Avg val loss = 1.0173, Time = 4.65s\n",
      "Epoch = 73, Avg Train Loss = 0.0147, Avg val loss = 0.9355, Time = 4.70s\n",
      "Epoch = 74, Avg Train Loss = 0.0146, Avg val loss = 0.9809, Time = 4.71s\n",
      "Epoch = 75, Avg Train Loss = 0.0144, Avg val loss = 1.0994, Time = 4.67s\n",
      "Epoch = 76, Avg Train Loss = 0.0141, Avg val loss = 1.0450, Time = 4.68s\n",
      "Epoch = 77, Avg Train Loss = 0.0139, Avg val loss = 1.1527, Time = 4.68s\n",
      "Epoch = 78, Avg Train Loss = 0.0138, Avg val loss = 1.0354, Time = 4.60s\n",
      "Epoch = 79, Avg Train Loss = 0.0136, Avg val loss = 1.0000, Time = 4.70s\n",
      "Epoch = 80, Avg Train Loss = 0.0133, Avg val loss = 1.0340, Time = 4.72s\n",
      "Epoch = 81, Avg Train Loss = 0.0132, Avg val loss = 0.9649, Time = 4.67s\n",
      "Epoch = 82, Avg Train Loss = 0.0129, Avg val loss = 0.9418, Time = 4.60s\n",
      "Epoch = 83, Avg Train Loss = 0.0129, Avg val loss = 0.9256, Time = 4.72s\n",
      "Epoch = 84, Avg Train Loss = 0.0126, Avg val loss = 1.0061, Time = 4.74s\n",
      "Epoch = 85, Avg Train Loss = 0.0125, Avg val loss = 0.9988, Time = 4.60s\n",
      "Epoch = 86, Avg Train Loss = 0.0123, Avg val loss = 0.9447, Time = 4.69s\n",
      "Epoch = 87, Avg Train Loss = 0.0121, Avg val loss = 0.9892, Time = 4.73s\n",
      "Epoch = 88, Avg Train Loss = 0.0120, Avg val loss = 1.0032, Time = 4.60s\n",
      "Epoch = 89, Avg Train Loss = 0.0118, Avg val loss = 0.9799, Time = 4.73s\n",
      "Epoch = 90, Avg Train Loss = 0.0116, Avg val loss = 0.8425, Time = 4.68s\n",
      "Epoch = 91, Avg Train Loss = 0.0114, Avg val loss = 1.0329, Time = 4.60s\n",
      "Epoch = 92, Avg Train Loss = 0.0114, Avg val loss = 0.9453, Time = 4.72s\n",
      "Epoch = 93, Avg Train Loss = 0.0112, Avg val loss = 0.8677, Time = 4.69s\n",
      "Epoch = 94, Avg Train Loss = 0.0110, Avg val loss = 0.9010, Time = 4.59s\n",
      "Epoch = 95, Avg Train Loss = 0.0110, Avg val loss = 0.9563, Time = 4.69s\n",
      "Epoch = 96, Avg Train Loss = 0.0108, Avg val loss = 1.0156, Time = 4.71s\n",
      "Epoch = 97, Avg Train Loss = 0.0106, Avg val loss = 0.9384, Time = 4.59s\n",
      "Epoch = 98, Avg Train Loss = 0.0106, Avg val loss = 1.0900, Time = 4.74s\n",
      "Epoch = 99, Avg Train Loss = 0.0104, Avg val loss = 0.9304, Time = 4.71s\n",
      "Epoch = 100, Avg Train Loss = 0.0102, Avg val loss = 0.9921, Time = 4.66s\n",
      "Epoch = 101, Avg Train Loss = 0.0101, Avg val loss = 0.9701, Time = 4.72s\n",
      "Epoch = 102, Avg Train Loss = 0.0101, Avg val loss = 0.9399, Time = 4.71s\n",
      "Epoch = 103, Avg Train Loss = 0.0100, Avg val loss = 0.9156, Time = 4.72s\n",
      "Epoch = 104, Avg Train Loss = 0.0098, Avg val loss = 1.0026, Time = 4.64s\n",
      "Epoch = 105, Avg Train Loss = 0.0099, Avg val loss = 0.9140, Time = 4.78s\n",
      "Epoch = 106, Avg Train Loss = 0.0097, Avg val loss = 0.9283, Time = 4.68s\n",
      "Epoch = 107, Avg Train Loss = 0.0095, Avg val loss = 0.8342, Time = 4.59s\n",
      "Epoch = 108, Avg Train Loss = 0.0094, Avg val loss = 0.9936, Time = 4.72s\n",
      "Epoch = 109, Avg Train Loss = 0.0092, Avg val loss = 0.9569, Time = 4.71s\n",
      "Epoch = 110, Avg Train Loss = 0.0091, Avg val loss = 0.8932, Time = 4.60s\n"
     ]
    },
    {
     "name": "stdout",
     "output_type": "stream",
     "text": [
      "Epoch = 111, Avg Train Loss = 0.0090, Avg val loss = 1.0118, Time = 4.69s\n",
      "Epoch = 112, Avg Train Loss = 0.0091, Avg val loss = 1.0074, Time = 4.69s\n",
      "Epoch = 113, Avg Train Loss = 0.0090, Avg val loss = 0.9001, Time = 4.60s\n",
      "Epoch = 114, Avg Train Loss = 0.0088, Avg val loss = 1.0211, Time = 4.77s\n",
      "Epoch = 115, Avg Train Loss = 0.0087, Avg val loss = 0.9535, Time = 4.69s\n",
      "Epoch = 116, Avg Train Loss = 0.0087, Avg val loss = 0.8907, Time = 4.61s\n",
      "Epoch = 117, Avg Train Loss = 0.0086, Avg val loss = 0.9177, Time = 4.69s\n",
      "Epoch = 118, Avg Train Loss = 0.0085, Avg val loss = 0.8729, Time = 4.67s\n",
      "Epoch = 119, Avg Train Loss = 0.0084, Avg val loss = 0.9025, Time = 4.59s\n",
      "Epoch = 120, Avg Train Loss = 0.0083, Avg val loss = 0.9230, Time = 4.67s\n",
      "Epoch = 121, Avg Train Loss = 0.0083, Avg val loss = 0.8466, Time = 4.73s\n",
      "Epoch = 122, Avg Train Loss = 0.0081, Avg val loss = 0.9043, Time = 4.60s\n",
      "Epoch = 123, Avg Train Loss = 0.0080, Avg val loss = 0.8309, Time = 4.74s\n",
      "Epoch = 124, Avg Train Loss = 0.0080, Avg val loss = 0.9280, Time = 4.66s\n",
      "Epoch = 125, Avg Train Loss = 0.0078, Avg val loss = 0.9716, Time = 4.64s\n",
      "Epoch = 126, Avg Train Loss = 0.0078, Avg val loss = 0.9582, Time = 4.73s\n",
      "Epoch = 127, Avg Train Loss = 0.0078, Avg val loss = 0.8396, Time = 4.85s\n",
      "Epoch = 128, Avg Train Loss = 0.0077, Avg val loss = 0.9447, Time = 4.67s\n",
      "Epoch = 129, Avg Train Loss = 0.0077, Avg val loss = 0.8973, Time = 4.75s\n",
      "Epoch = 130, Avg Train Loss = 0.0076, Avg val loss = 0.9520, Time = 4.74s\n",
      "Epoch = 131, Avg Train Loss = 0.0076, Avg val loss = 0.8757, Time = 4.73s\n",
      "Epoch = 132, Avg Train Loss = 0.0074, Avg val loss = 0.8975, Time = 4.84s\n",
      "Epoch = 133, Avg Train Loss = 0.0075, Avg val loss = 0.7979, Time = 4.76s\n",
      "Epoch = 134, Avg Train Loss = 0.0073, Avg val loss = 0.7663, Time = 4.75s\n",
      "Epoch = 135, Avg Train Loss = 0.0073, Avg val loss = 0.8755, Time = 4.77s\n",
      "Epoch = 136, Avg Train Loss = 0.0072, Avg val loss = 0.8225, Time = 4.75s\n",
      "Epoch = 137, Avg Train Loss = 0.0071, Avg val loss = 0.8953, Time = 4.72s\n",
      "Epoch = 138, Avg Train Loss = 0.0070, Avg val loss = 1.0126, Time = 4.75s\n",
      "Epoch = 139, Avg Train Loss = 0.0070, Avg val loss = 0.8867, Time = 4.71s\n",
      "Epoch = 140, Avg Train Loss = 0.0070, Avg val loss = 0.9553, Time = 4.74s\n",
      "Epoch = 141, Avg Train Loss = 0.0070, Avg val loss = 0.8997, Time = 4.64s\n",
      "Epoch = 142, Avg Train Loss = 0.0069, Avg val loss = 0.9040, Time = 4.78s\n",
      "Epoch = 143, Avg Train Loss = 0.0067, Avg val loss = 0.9724, Time = 4.67s\n",
      "Epoch = 144, Avg Train Loss = 0.0067, Avg val loss = 0.9913, Time = 4.61s\n",
      "Epoch = 145, Avg Train Loss = 0.0067, Avg val loss = 0.8587, Time = 4.68s\n",
      "Epoch = 146, Avg Train Loss = 0.0066, Avg val loss = 0.7727, Time = 4.73s\n",
      "Epoch = 147, Avg Train Loss = 0.0065, Avg val loss = 0.8322, Time = 4.60s\n",
      "Epoch = 148, Avg Train Loss = 0.0065, Avg val loss = 0.7982, Time = 4.68s\n"
     ]
    }
   ],
   "source": [
    "model = CharCNNLstmModel(len(char_set))\n",
    "train_gen_model(model, train, val, epochs_count=149, early_stopping=True, lr=0.01, save_path=\"model_charcnn_v3.pt\", patience = 5, batch_size = 32)"
   ]
  },
  {
   "cell_type": "code",
   "execution_count": 27,
   "metadata": {
    "ExecuteTime": {
     "end_time": "2020-05-05T19:50:22.996343Z",
     "start_time": "2020-05-05T19:50:08.523115Z"
    }
   },
   "outputs": [
    {
     "data": {
      "text/plain": [
       "0.15480357837417347"
      ]
     },
     "execution_count": 27,
     "metadata": {},
     "output_type": "execute_result"
    }
   ],
   "source": [
    "model_cnn = CharCNNLstmModel(len(char_set))\n",
    "model_cnn.load_state_dict(torch.load(\"model_charcnn_v3.pt\"))\n",
    "\n",
    "docs, true_labels, predicted_labels = predict(model_cnn, test)\n",
    "calc_ner_f1(docs, predicted_labels)"
   ]
  }
 ],
 "metadata": {
  "@webio": {
   "lastCommId": null,
   "lastKernelId": null
  },
  "kernelspec": {
   "display_name": "Python 3",
   "language": "python",
   "name": "python3"
  },
  "language_info": {
   "codemirror_mode": {
    "name": "ipython",
    "version": 3
   },
   "file_extension": ".py",
   "mimetype": "text/x-python",
   "name": "python",
   "nbconvert_exporter": "python",
   "pygments_lexer": "ipython3",
   "version": "3.7.3"
  }
 },
 "nbformat": 4,
 "nbformat_minor": 2
}
